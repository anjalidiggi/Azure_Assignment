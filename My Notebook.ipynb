{
 "cells": [
  {
   "cell_type": "code",
   "execution_count": 0,
   "metadata": {
    "application/vnd.databricks.v1+cell": {
     "cellMetadata": {
      "byteLimit": 2048000,
      "rowLimit": 10000
     },
     "inputWidgets": {},
     "nuid": "3776df20-f714-4c2a-a2b5-2efe02669f88",
     "showTitle": false,
     "title": ""
    }
   },
   "outputs": [
    {
     "output_type": "display_data",
     "data": {
      "text/html": [
       "<style scoped>\n",
       "  .ansiout {\n",
       "    display: block;\n",
       "    unicode-bidi: embed;\n",
       "    white-space: pre-wrap;\n",
       "    word-wrap: break-word;\n",
       "    word-break: break-all;\n",
       "    font-family: \"Menlo\", \"Monaco\", \"Consolas\", \"Ubuntu Mono\", \"Source Code Pro\", monospace;\n",
       "    font-size: 13px;\n",
       "    color: #555;\n",
       "    margin-left: 4px;\n",
       "    line-height: 19px;\n",
       "  }\n",
       "</style>\n",
       "<div class=\"ansiout\">configs: scala.collection.immutable.Map[String,String] = Map(fs.azure.account.key.adfassignmentanjali.blob.core.windows.net -&gt; VlzvQe3d8+oEN5dnPo6tW7B4B6jxNWsDyNkNcrs+CvvXl2WLsHUdWSNSFtDz06smCLIyEVVF5FMC+AStb3Wu2Q==)\n",
       "res4: Boolean = true\n",
       "</div>"
      ]
     },
     "metadata": {
      "application/vnd.databricks.v1+output": {
       "addedWidgets": {},
       "arguments": {},
       "data": "<div class=\"ansiout\">configs: scala.collection.immutable.Map[String,String] = Map(fs.azure.account.key.adfassignmentanjali.blob.core.windows.net -&gt; VlzvQe3d8+oEN5dnPo6tW7B4B6jxNWsDyNkNcrs+CvvXl2WLsHUdWSNSFtDz06smCLIyEVVF5FMC+AStb3Wu2Q==)\nres4: Boolean = true\n</div>",
       "datasetInfos": [],
       "metadata": {
        "isDbfsCommandResult": false
       },
       "removedWidgets": [],
       "type": "html"
      }
     },
     "output_type": "display_data"
    }
   ],
   "source": [
    "%scala\n",
    "val configs = Map(\n",
    "  \"fs.azure.account.key.adfassignmentanjali.blob.core.windows.net\" -> \"VlzvQe3d8+oEN5dnPo6tW7B4B6jxNWsDyNkNcrs+CvvXl2WLsHUdWSNSFtDz06smCLIyEVVF5FMC+AStb3Wu2Q==\"\n",
    ")\n",
    "//dbutils.fs.unmount(\"/mnt/bronze\")\n",
    "//dbutils.fs.unmount(\"/mnt/silver\")\n",
    "dbutils.fs.mount(\n",
    "  source = \"wasbs://bronze@adfassignmentanjali.blob.core.windows.net/\",\n",
    "  mountPoint = \"/mnt/bronze/\",\n",
    "  extraConfigs = configs)\n",
    "\n",
    "dbutils.fs.mount(\n",
    "  source = \"wasbs://silver@adfassignmentanjali.blob.core.windows.net/\",\n",
    "  mountPoint = \"/mnt/silver/\",\n",
    "  extraConfigs = configs)\n",
    "\n",
    "\n"
   ]
  },
  {
   "cell_type": "code",
   "execution_count": 0,
   "metadata": {
    "application/vnd.databricks.v1+cell": {
     "cellMetadata": {
      "byteLimit": 2048000,
      "rowLimit": 10000
     },
     "inputWidgets": {},
     "nuid": "abd23ed7-8204-487a-9bdc-44b1e2a7746f",
     "showTitle": false,
     "title": ""
    }
   },
   "outputs": [
    {
     "output_type": "stream",
     "name": "stdout",
     "output_type": "stream",
     "text": [
      "+-----------+----------------+--------------------+--------------------+------+---+--------------------+----------+--------+------+------+--------------+--------------------+----------+\n|customer_id|            name|            email_id|             address|gender|age|        joining_date|registered|order_id|orders| spent|           job|             hobbies|is_married|\n+-----------+----------------+--------------------+--------------------+------+---+--------------------+----------+--------+------+------+--------------+--------------------+----------+\n|   amxjo131|     Joseph Rice|josephrice131@sli...|91773 Miller Shoa...|  male| 43|    07-12-2022 20:15|05-05-2019|    NULL|     7|568.29|        Artist|      Playing sports|     FALSE|\n|   amxga386|      Gary Moore|garymoore386@slin...|6450 John Lodge T...|  male| 71|    07-12-2021 20:15|20-05-2020|    NULL|    11|568.92|        Artist|            Swimming|      TRUE|\n|    amxj944|     John Walker|johnwalker944@sli...|27265 Murray Isla...|  male| 44|    07-12-2022 20:15|04-04-2020|    NULL|    11|497.12|         Clerk|            Painting|     FALSE|\n|   amxer176|     Eric Carter|ericcarter176@sli...|USNS Knight FPO A...|  male| 38|    07-12-2022 20:15|30-01-2019|    NULL|    17| 834.6|       Butcher|Playing musical i...|     FALSE|\n|   amxwi427| William Jackson|williamjackson427...|170 Jackson Loaf ...|  male| 58|    10-12-2022 20:15|01-07-2022|    NULL|    14|151.59|      Engineer|             Reading|     FALSE|\n|   amxni228|    Nicole Jones|nicolejones228@sl...|14354 Baker Harbo...|female| 33|    07-12-2022 20:15|07-08-2021|    NULL|    19| 33.17|    Unemployed|             Running|      TRUE|\n|   amxda980|     David Davis|daviddavis980@sli...|021 Katherine Mal...|  male| 59|    07-12-2022 20:15|16-06-2022|    NULL|     9|970.96|        Doctor|      Playing sports|     FALSE|\n|   amxja889|Jason Montgomery|jasonmontgomery88...|14657 Scott Loop ...|  male| 58|    07-12-2023 20:15|13-11-2021|    NULL|    12| 676.2|      Waitress|          Collecting|     FALSE|\n|   amxke695|     Kent Weaver|kentweaver695@sli...|6644 Mitchell Bur...|  male| 61|    07-01-2022 20:15|11-06-2023|    NULL|     1|674.37|         Clerk|              Hiking|     FALSE|\n|   amxda573|  Darrell Dillon|darrelldillon573@...|PSC 7267, Box 991...|  male| 50|     07-0-2022 20:15|13-09-2022|    NULL|    12|750.72|       Dentist|     Watching movies|     FALSE|\n|   amxja322| Jacqueline Wang|jacquelinewang322...|16963 Stewart Cur...|female| 22|    07-12-2022 20:15|08-02-2023|    NULL|    12|962.47|     Housewife|          Collecting|     FALSE|\n|   amxjo185|   Jodi Gonzalez|jodigonzalez185@s...|378 Johnson Oval ...|female| 69|    07-12-2022 20:15|25-06-2021|    NULL|    12| 68.67|         Baker|         Photography|     FALSE|\n|   amxom769|     Omar Martin|omarmartin769@sli...|Unit 9103 Box 477...|  male| 28|    07-12-2022 20:15|28-05-2023|    NULL|     3|162.58|        Doctor|           Gardening|      TRUE|\n|   amxni473|     Nicole Lara|nicolelara473@sli...|9822 Lisa Courts ...|female| 77|    07-01-2022 20:15|03-03-2023|    NULL|    17|309.81|       Janitor|              Hiking|      TRUE|\n|   amxja753|     Jason Brown|jasonbrown753@sli...|7310 Romero Summi...|  male| 63|07-14-2022  20:15:39|05-12-2022|    NULL|    13|763.27|        Lawyer|             Fishing|      TRUE|\n|   amxda257|    David Benson|davidbenson257@sl...|444 Derek Summit ...|  male| 61|    07-12-2022 20:15|15-04-2022|    NULL|    17|111.11|        Lawyer|          Meditation|      TRUE|\n|   amxki513|   Kimberly Mora|kimberlymora513@s...|7679 Perry Square...|female| 34|    07-12-2022 20:15|19-05-2019|    NULL|    10|208.46|        Farmer|          Collecting|     FALSE|\n|   amxer904|     Erik Macias|erikmacias904@win...|568 Christopher T...|  male| 25|    07-12-2022 20:15|18-04-2020|    NULL|     8|439.53|    Accountant|             Fishing|     FALSE|\n|   amxja681|   James Johnson|jamesjohnson681@w...|19870 Sean Parkwa...|  male| 67|    07-08-2022 20:15|17-02-2019|    NULL|     5|394.95|Security Guard|     Watching movies|     FALSE|\n|   amxde324|  Derek Peterson|derekpeterson324@...|70830 Jonathan Pi...|  male| 36|    07-12-2022 20:15|15-12-2020|    NULL|     2| 153.8|     Architect|         Photography|      TRUE|\n+-----------+----------------+--------------------+--------------------+------+---+--------------------+----------+--------+------+------+--------------+--------------------+----------+\nonly showing top 20 rows\n\n+-----------+----------------+--------------------+--------------------+------+---+--------------------+----------+--------+------+------+--------------+--------------------+----------+----------+----------+------------+----------+-----+------------------+\n|customer_id|            name|            email_id|             address|gender|age|        joining_date|registered|order_id|orders| spent|           job|             hobbies|is_married|first_name| last_name|      domain|      date| time|expenditure_status|\n+-----------+----------------+--------------------+--------------------+------+---+--------------------+----------+--------+------+------+--------------+--------------------+----------+----------+----------+------------+----------+-----+------------------+\n|   amxjo131|     Joseph Rice|josephrice131@sli...|91773 Miller Shoa...|     M| 43|    07-12-2022 20:15|05-05-2019|    NULL|     7|568.29|        Artist|      Playing sports|     FALSE|    Joseph|      Rice|slingacademy|2022-12-07|20:15|           MAXIMUM|\n|   amxga386|      Gary Moore|garymoore386@slin...|6450 John Lodge T...|     M| 71|    07-12-2021 20:15|20-05-2020|    NULL|    11|568.92|        Artist|            Swimming|      TRUE|      Gary|     Moore|slingacademy|2021-12-07|20:15|           MAXIMUM|\n|    amxj944|     John Walker|johnwalker944@sli...|27265 Murray Isla...|     M| 44|    07-12-2022 20:15|04-04-2020|    NULL|    11|497.12|         Clerk|            Painting|     FALSE|      John|    Walker|slingacademy|2022-12-07|20:15|           MAXIMUM|\n|   amxer176|     Eric Carter|ericcarter176@sli...|USNS Knight FPO A...|     M| 38|    07-12-2022 20:15|30-01-2019|    NULL|    17| 834.6|       Butcher|Playing musical i...|     FALSE|      Eric|    Carter|slingacademy|2022-12-07|20:15|           MAXIMUM|\n|   amxwi427| William Jackson|williamjackson427...|170 Jackson Loaf ...|     M| 58|    10-12-2022 20:15|01-07-2022|    NULL|    14|151.59|      Engineer|             Reading|     FALSE|   William|   Jackson|slingacademy|2022-12-10|20:15|           MINIMUM|\n|   amxni228|    Nicole Jones|nicolejones228@sl...|14354 Baker Harbo...|     F| 33|    07-12-2022 20:15|07-08-2021|    NULL|    19| 33.17|    Unemployed|             Running|      TRUE|    Nicole|     Jones|slingacademy|2022-12-07|20:15|           MINIMUM|\n|   amxda980|     David Davis|daviddavis980@sli...|021 Katherine Mal...|     M| 59|    07-12-2022 20:15|16-06-2022|    NULL|     9|970.96|        Doctor|      Playing sports|     FALSE|     David|     Davis|slingacademy|2022-12-07|20:15|           MAXIMUM|\n|   amxja889|Jason Montgomery|jasonmontgomery88...|14657 Scott Loop ...|     M| 58|    07-12-2023 20:15|13-11-2021|    NULL|    12| 676.2|      Waitress|          Collecting|     FALSE|     Jason|Montgomery|slingacademy|2023-12-07|20:15|           MAXIMUM|\n|   amxke695|     Kent Weaver|kentweaver695@sli...|6644 Mitchell Bur...|     M| 61|    07-01-2022 20:15|11-06-2023|    NULL|     1|674.37|         Clerk|              Hiking|     FALSE|      Kent|    Weaver|slingacademy|2022-01-07|20:15|           MAXIMUM|\n|   amxda573|  Darrell Dillon|darrelldillon573@...|PSC 7267, Box 991...|     M| 50|     07-0-2022 20:15|13-09-2022|    NULL|    12|750.72|       Dentist|     Watching movies|     FALSE|   Darrell|    Dillon|slingacademy|      NULL|20:15|           MAXIMUM|\n|   amxja322| Jacqueline Wang|jacquelinewang322...|16963 Stewart Cur...|     F| 22|    07-12-2022 20:15|08-02-2023|    NULL|    12|962.47|     Housewife|          Collecting|     FALSE|Jacqueline|      Wang|slingacademy|2022-12-07|20:15|           MAXIMUM|\n|   amxjo185|   Jodi Gonzalez|jodigonzalez185@s...|378 Johnson Oval ...|     F| 69|    07-12-2022 20:15|25-06-2021|    NULL|    12| 68.67|         Baker|         Photography|     FALSE|      Jodi|  Gonzalez|slingacademy|2022-12-07|20:15|           MINIMUM|\n|   amxom769|     Omar Martin|omarmartin769@sli...|Unit 9103 Box 477...|     M| 28|    07-12-2022 20:15|28-05-2023|    NULL|     3|162.58|        Doctor|           Gardening|      TRUE|      Omar|    Martin|slingacademy|2022-12-07|20:15|           MINIMUM|\n|   amxni473|     Nicole Lara|nicolelara473@sli...|9822 Lisa Courts ...|     F| 77|    07-01-2022 20:15|03-03-2023|    NULL|    17|309.81|       Janitor|              Hiking|      TRUE|    Nicole|      Lara|slingacademy|2022-01-07|20:15|           MAXIMUM|\n|   amxja753|     Jason Brown|jasonbrown753@sli...|7310 Romero Summi...|     M| 63|07-14-2022  20:15:39|05-12-2022|    NULL|    13|763.27|        Lawyer|             Fishing|      TRUE|     Jason|     Brown|slingacademy|      NULL|     |           MAXIMUM|\n|   amxda257|    David Benson|davidbenson257@sl...|444 Derek Summit ...|     M| 61|    07-12-2022 20:15|15-04-2022|    NULL|    17|111.11|        Lawyer|          Meditation|      TRUE|     David|    Benson|slingacademy|2022-12-07|20:15|           MINIMUM|\n|   amxki513|   Kimberly Mora|kimberlymora513@s...|7679 Perry Square...|     F| 34|    07-12-2022 20:15|19-05-2019|    NULL|    10|208.46|        Farmer|          Collecting|     FALSE|  Kimberly|      Mora|slingacademy|2022-12-07|20:15|           MAXIMUM|\n|   amxer904|     Erik Macias|erikmacias904@win...|568 Christopher T...|     M| 25|    07-12-2022 20:15|18-04-2020|    NULL|     8|439.53|    Accountant|             Fishing|     FALSE|      Erik|    Macias| wingacademy|2022-12-07|20:15|           MAXIMUM|\n|   amxja681|   James Johnson|jamesjohnson681@w...|19870 Sean Parkwa...|     M| 67|    07-08-2022 20:15|17-02-2019|    NULL|     5|394.95|Security Guard|     Watching movies|     FALSE|     James|   Johnson| wingacademy|2022-08-07|20:15|           MAXIMUM|\n|   amxde324|  Derek Peterson|derekpeterson324@...|70830 Jonathan Pi...|     M| 36|    07-12-2022 20:15|15-12-2020|    NULL|     2| 153.8|     Architect|         Photography|      TRUE|     Derek|  Peterson| wingacademy|2022-12-07|20:15|           MINIMUM|\n+-----------+----------------+--------------------+--------------------+------+---+--------------------+----------+--------+------+------+--------------+--------------------+----------+----------+----------+------------+----------+-----+------------------+\nonly showing top 20 rows\n\n"
     ]
    }
   ],
   "source": [
    "#import\n",
    "from pyspark.sql.functions import col\n",
    "from pyspark.sql.types import StringType\n",
    "from pyspark.sql import SparkSession\n",
    "from pyspark.sql.functions import when, col, split, to_date, date_format\n",
    "from delta.tables import *\n",
    "import re\n",
    "\n",
    "# Q1\n",
    "df = spark.read.format(\"csv\").option(\"header\", \"true\").load(\"/mnt/bronze/customer\")\n",
    "\n",
    "# Q2\n",
    "def camel_to_snake(name):\n",
    "    name = name.replace(\" \", \"_\")\n",
    "    s1 = re.sub('(.)([A-Z][a-z]+)', r'\\1\\2', name)\n",
    "    return re.sub('([a-z0-9])([A-Z])', r'\\1\\2', s1).lower()\n",
    "\n",
    "# Register the function as a UDF\n",
    "camel_to_snake_udf = udf(camel_to_snake, StringType())\n",
    "\n",
    "# Apply the UDF to column names and select with new column names\n",
    "df = df.select(*[col(c).alias(camel_to_snake(c)) for c in df.columns])\n",
    "\n",
    "# Show the result\n",
    "df.show()\n",
    "\n",
    "# Q3\n",
    "df = df.withColumn(\"first_name\", split(df[\"name\"], \" \").getItem(0)) \\\n",
    "       .withColumn(\"last_name\", split(df[\"name\"], \" \").getItem(1))\n",
    "\n",
    "#Q4\n",
    "df = df.withColumn(\"domain\", split(split(df[\"email_id\"], \"@\").getItem(1), \"\\.\").getItem(0))\n",
    "\n",
    "#Q5\n",
    "df = df.withColumn(\"gender\", when(col(\"gender\") == \"male\", \"M\").otherwise(\"F\"))\n",
    "\n",
    "#Q6\n",
    "\n",
    "df = df.withColumn(\"date\", date_format(to_date(split(col(\"joining_date\"), \" \").getItem(0), \"dd-MM-yyyy\"), \"yyyy-MM-dd\")) \\\n",
    "       .withColumn(\"time\", split(col(\"joining_date\"), \" \").getItem(1))\n",
    "\n",
    "#Q7\n",
    "df = df.withColumn(\"expenditure_status\", when(col(\"spent\") < 200, \"MINIMUM\").otherwise(\"MAXIMUM\"))\n",
    "df.show()\n",
    "\n",
    "#Q8\n",
    "\n",
    "# Location of the Delta table\n",
    "delta_path = \"dbfs:/mnt/silver/sales_view/customer/\"\n",
    "\n",
    "df.write.format(\"csv\").mode(\"overwrite\").save(delta_path)\n"
   ]
  },
  {
   "cell_type": "code",
   "execution_count": 0,
   "metadata": {
    "application/vnd.databricks.v1+cell": {
     "cellMetadata": {
      "byteLimit": 2048000,
      "rowLimit": 10000
     },
     "inputWidgets": {},
     "nuid": "bde774db-fa44-4ba4-92f4-b439ecd1358a",
     "showTitle": false,
     "title": ""
    }
   },
   "outputs": [
    {
     "output_type": "stream",
     "name": "stdout",
     "output_type": "stream",
     "text": [
      "+--------+----------------+--------------------+--------------------+---+---+--------------------+----------+----+---+------+--------------+--------------------+-----+----------+----------+------------+----------+-----+-------+\n|     _c0|             _c1|                 _c2|                 _c3|_c4|_c5|                 _c6|       _c7| _c8|_c9|  _c10|          _c11|                _c12| _c13|      _c14|      _c15|        _c16|      _c17| _c18|   _c19|\n+--------+----------------+--------------------+--------------------+---+---+--------------------+----------+----+---+------+--------------+--------------------+-----+----------+----------+------------+----------+-----+-------+\n|amxjo131|     Joseph Rice|josephrice131@sli...|91773 Miller Shoa...|  M| 43|    07-12-2022 20:15|05-05-2019|NULL|  7|568.29|        Artist|      Playing sports|FALSE|    Joseph|      Rice|slingacademy|2022-12-07|20:15|MAXIMUM|\n|amxga386|      Gary Moore|garymoore386@slin...|6450 John Lodge T...|  M| 71|    07-12-2021 20:15|20-05-2020|NULL| 11|568.92|        Artist|            Swimming| TRUE|      Gary|     Moore|slingacademy|2021-12-07|20:15|MAXIMUM|\n| amxj944|     John Walker|johnwalker944@sli...|27265 Murray Isla...|  M| 44|    07-12-2022 20:15|04-04-2020|NULL| 11|497.12|         Clerk|            Painting|FALSE|      John|    Walker|slingacademy|2022-12-07|20:15|MAXIMUM|\n|amxer176|     Eric Carter|ericcarter176@sli...|USNS Knight FPO A...|  M| 38|    07-12-2022 20:15|30-01-2019|NULL| 17| 834.6|       Butcher|Playing musical i...|FALSE|      Eric|    Carter|slingacademy|2022-12-07|20:15|MAXIMUM|\n|amxwi427| William Jackson|williamjackson427...|170 Jackson Loaf ...|  M| 58|    10-12-2022 20:15|01-07-2022|NULL| 14|151.59|      Engineer|             Reading|FALSE|   William|   Jackson|slingacademy|2022-12-10|20:15|MINIMUM|\n|amxni228|    Nicole Jones|nicolejones228@sl...|14354 Baker Harbo...|  F| 33|    07-12-2022 20:15|07-08-2021|NULL| 19| 33.17|    Unemployed|             Running| TRUE|    Nicole|     Jones|slingacademy|2022-12-07|20:15|MINIMUM|\n|amxda980|     David Davis|daviddavis980@sli...|021 Katherine Mal...|  M| 59|    07-12-2022 20:15|16-06-2022|NULL|  9|970.96|        Doctor|      Playing sports|FALSE|     David|     Davis|slingacademy|2022-12-07|20:15|MAXIMUM|\n|amxja889|Jason Montgomery|jasonmontgomery88...|14657 Scott Loop ...|  M| 58|    07-12-2023 20:15|13-11-2021|NULL| 12| 676.2|      Waitress|          Collecting|FALSE|     Jason|Montgomery|slingacademy|2023-12-07|20:15|MAXIMUM|\n|amxke695|     Kent Weaver|kentweaver695@sli...|6644 Mitchell Bur...|  M| 61|    07-01-2022 20:15|11-06-2023|NULL|  1|674.37|         Clerk|              Hiking|FALSE|      Kent|    Weaver|slingacademy|2022-01-07|20:15|MAXIMUM|\n|amxda573|  Darrell Dillon|darrelldillon573@...|PSC 7267, Box 991...|  M| 50|     07-0-2022 20:15|13-09-2022|NULL| 12|750.72|       Dentist|     Watching movies|FALSE|   Darrell|    Dillon|slingacademy|      NULL|20:15|MAXIMUM|\n|amxja322| Jacqueline Wang|jacquelinewang322...|16963 Stewart Cur...|  F| 22|    07-12-2022 20:15|08-02-2023|NULL| 12|962.47|     Housewife|          Collecting|FALSE|Jacqueline|      Wang|slingacademy|2022-12-07|20:15|MAXIMUM|\n|amxjo185|   Jodi Gonzalez|jodigonzalez185@s...|378 Johnson Oval ...|  F| 69|    07-12-2022 20:15|25-06-2021|NULL| 12| 68.67|         Baker|         Photography|FALSE|      Jodi|  Gonzalez|slingacademy|2022-12-07|20:15|MINIMUM|\n|amxom769|     Omar Martin|omarmartin769@sli...|Unit 9103 Box 477...|  M| 28|    07-12-2022 20:15|28-05-2023|NULL|  3|162.58|        Doctor|           Gardening| TRUE|      Omar|    Martin|slingacademy|2022-12-07|20:15|MINIMUM|\n|amxni473|     Nicole Lara|nicolelara473@sli...|9822 Lisa Courts ...|  F| 77|    07-01-2022 20:15|03-03-2023|NULL| 17|309.81|       Janitor|              Hiking| TRUE|    Nicole|      Lara|slingacademy|2022-01-07|20:15|MAXIMUM|\n|amxja753|     Jason Brown|jasonbrown753@sli...|7310 Romero Summi...|  M| 63|07-14-2022  20:15:39|05-12-2022|NULL| 13|763.27|        Lawyer|             Fishing| TRUE|     Jason|     Brown|slingacademy|      NULL| NULL|MAXIMUM|\n|amxda257|    David Benson|davidbenson257@sl...|444 Derek Summit ...|  M| 61|    07-12-2022 20:15|15-04-2022|NULL| 17|111.11|        Lawyer|          Meditation| TRUE|     David|    Benson|slingacademy|2022-12-07|20:15|MINIMUM|\n|amxki513|   Kimberly Mora|kimberlymora513@s...|7679 Perry Square...|  F| 34|    07-12-2022 20:15|19-05-2019|NULL| 10|208.46|        Farmer|          Collecting|FALSE|  Kimberly|      Mora|slingacademy|2022-12-07|20:15|MAXIMUM|\n|amxer904|     Erik Macias|erikmacias904@win...|568 Christopher T...|  M| 25|    07-12-2022 20:15|18-04-2020|NULL|  8|439.53|    Accountant|             Fishing|FALSE|      Erik|    Macias| wingacademy|2022-12-07|20:15|MAXIMUM|\n|amxja681|   James Johnson|jamesjohnson681@w...|19870 Sean Parkwa...|  M| 67|    07-08-2022 20:15|17-02-2019|NULL|  5|394.95|Security Guard|     Watching movies|FALSE|     James|   Johnson| wingacademy|2022-08-07|20:15|MAXIMUM|\n|amxde324|  Derek Peterson|derekpeterson324@...|70830 Jonathan Pi...|  M| 36|    07-12-2022 20:15|15-12-2020|NULL|  2| 153.8|     Architect|         Photography| TRUE|     Derek|  Peterson| wingacademy|2022-12-07|20:15|MINIMUM|\n+--------+----------------+--------------------+--------------------+---+---+--------------------+----------+----+---+------+--------------+--------------------+-----+----------+----------+------------+----------+-----+-------+\nonly showing top 20 rows\n\nDelta table does not exist at the specified path.\n"
     ]
    },
    {
     "output_type": "execute_result",
     "data": {
      "text/plain": [
       "True"
      ]
     },
     "execution_count": 132,
     "metadata": {},
     "output_type": "execute_result"
    }
   ],
   "source": [
    "delta_path = \"dbfs:/mnt/silver/sales_view/customer/\"\n",
    "\n",
    "verified_df = spark.read.format(\"delta\").load(delta_path)\n",
    "verified_df.show()\n",
    "\n",
    "from pyspark.sql import SparkSession\n",
    "from delta.tables import DeltaTable\n",
    "\n",
    "# Initialize Spark Session (Assuming it's not already started)\n",
    "spark = SparkSession.builder.appName(\"Delete Delta Table\").getOrCreate()\n",
    "\n",
    "# Check if the Delta table exists\n",
    "if DeltaTable.isDeltaTable(spark, delta_path):\n",
    "    print(\"Delta table exists and will be deleted.\")\n",
    "else:\n",
    "    print(\"Delta table does not exist at the specified path.\")\n",
    "\n",
    "dbutils.fs.rm(delta_path, recurse=True)"
   ]
  },
  {
   "cell_type": "code",
   "execution_count": 0,
   "metadata": {
    "application/vnd.databricks.v1+cell": {
     "cellMetadata": {
      "byteLimit": 2048000,
      "rowLimit": 10000
     },
     "inputWidgets": {},
     "nuid": "53525c96-0d6c-49c7-8bd4-62a728f68ec6",
     "showTitle": false,
     "title": ""
    }
   },
   "outputs": [
    {
     "output_type": "stream",
     "name": "stdout",
     "output_type": "stream",
     "text": [
      "+------------+--------------------+------------+--------------------+-----------+------+--------------+-----------+----------+----------+--------------------+------+-----------+---------+--------+-------------+\n|  product_id|        product_name|product_code|         description|category_id| price|stock_quantity|supplier_id|created_at|updated_at|           image_url|weight|expiry_date|is_active|tax_rate|     store_id|\n+------------+--------------------+------------+--------------------+-----------+------+--------------+-----------+----------+----------+--------------------+------+-----------+---------+--------+-------------+\n|  PROD1A23B4|     Apple iPhone 12|      IPHN12|The latest iPhone...|          1|999.99|           100|        101|01-01-2023|31-12-2023|https://example.c...|0.5 kg|       NULL|        1|       5|STORE1D2E3F4G|\n| PROD5C67D8E|  Samsung Galaxy S21|       SGS21|High-performance ...|          1|899.99|           150|        102|02-01-2023|30-12-2023|https://example.c...|0.6 kg|       NULL|        1|     4.5|STORE5H6I7J8K|\n|PRODA9B1C2D3|  HP Pavilion Laptop|      HPVPLP|Powerful laptop f...|          2|799.99|            80|        103|03-01-2023|29-12-2023|https://example.c...|2.0 kg|       NULL|        1|       5|STOREL9M0N1O2|\n|PROD4E5F6G7H|Dell 27-inch Monitor|     DELLMON|High-resolution m...|          2|299.99|           120|        104|04-01-2023|28-12-2023|https://example.c...|5.0 kg|       NULL|        1|     5.5|STORE3P4Q5R6S|\n|PROD2I3J4K5L|  Sony PlayStation 5|         PS5|Next-gen gaming c...|          3|499.99|            70|        105|05-01-2023|27-12-2023|https://example.c...|6.0 kg|       NULL|        1|       6|STORE7T8U9V0W|\n|PROD6M7N8O9P|     Nintendo Switch|         NSW|Hybrid gaming con...|          3|299.99|            90|        106|06-01-2023|26-12-2023|https://example.c...|4.0 kg|       NULL|        1|       5|STOREX1Y2Z3A4|\n|PROD4Q5R6S7T|Amazon Echo Dot (...|       ECHO4|Smart speaker wit...|          4| 49.99|           200|        107|07-01-2023|25-12-2023|https://example.c...|0.3 kg|       NULL|        1|       4|STORE5B6C7D8E|\n| PROD8U9V1W2| Canon EOS Rebel T7i|    REBELT7I|DSLR camera for p...|          4|699.99|            60|        108|08-01-2023|24-12-2023|https://example.c...|1.5 kg|       NULL|        1|     5.5|STORE9F0G1H2I|\n| PROD3X4Y5Z6|     Fitbit Charge 5|    FITBITC5|Advanced fitness ...|          4|179.99|           250|        109|09-01-2023|23-12-2023|https://example.c...|0.2 kg|       NULL|        1|       4|STORE3J4K5L6M|\n| PROD7A8B9C0|Logitech MX Master 3|     LOGIMX3|High-precision wi...|          4| 99.99|           300|        110|10-01-2023|22-12-2023|https://example.c...|0.1 kg|       NULL|        1|       5|STORE7N8O9P0Q|\n|  PROD1A23B4|     Apple iPhone 12|      IPHN12|The latest iPhone...|          1|999.99|           100|        101|01-01-2023|31-12-2023|https://example.c...|0.5 kg|       NULL|        1|       5|STORE9F0G1H2I|\n| PROD5C67D8E|  Samsung Galaxy S21|       SGS21|High-performance ...|          1|899.99|           150|        102|02-01-2023|30-12-2023|https://example.c...|0.6 kg|       NULL|        1|     4.5|STORE3J4K5L6M|\n|PRODA9B1C2D3|  HP Pavilion Laptop|      HPVPLP|Powerful laptop f...|          2|799.99|            80|        103|03-01-2023|29-12-2023|https://example.c...|2.0 kg|       NULL|        1|       5|STORE7N8O9P0Q|\n|  PROD1A23B4|     Apple iPhone 12|      IPHN56|The latest iPhone...|          1|999.99|           100|        101|01-01-2023|31-12-2023|https://example.c...|0.5 kg|       NULL|        1|       5|STORE1D2E3F4G|\n| PROD5C67D8E|  Samsung Galaxy S21|       SGS21|High-performance ...|          1|  1800|           150|        102|02-01-2023|30-12-2023|https://example.c...|0.6 kg|       NULL|        1|     4.5|STORE5H6I7J8K|\n|PRODA9B1C2D3|  HP Pavilion Laptop|      HPVPLP|Powerful laptop f...|          2|  1200|            80|        103|03-01-2023|29-12-2023|https://example.c...|2.0 kg|       NULL|        1|       5|STOREL9M0N1O2|\n+------------+--------------------+------------+--------------------+-----------+------+--------------+-----------+----------+----------+--------------------+------+-----------+---------+--------+-------------+\n\n+------------+--------------------+------------+--------------------+-----------+------+--------------+-----------+----------+----------+--------------------+------+-----------+---------+--------+-------------+------------+\n|  product_id|        product_name|product_code|         description|category_id| price|stock_quantity|supplier_id|created_at|updated_at|           image_url|weight|expiry_date|is_active|tax_rate|     store_id|sub_category|\n+------------+--------------------+------------+--------------------+-----------+------+--------------+-----------+----------+----------+--------------------+------+-----------+---------+--------+-------------+------------+\n|  PROD1A23B4|     Apple iPhone 12|      IPHN12|The latest iPhone...|          1|999.99|           100|        101|01-01-2023|31-12-2023|https://example.c...|0.5 kg|       NULL|        1|       5|STORE1D2E3F4G|       phone|\n| PROD5C67D8E|  Samsung Galaxy S21|       SGS21|High-performance ...|          1|899.99|           150|        102|02-01-2023|30-12-2023|https://example.c...|0.6 kg|       NULL|        1|     4.5|STORE5H6I7J8K|       phone|\n|PRODA9B1C2D3|  HP Pavilion Laptop|      HPVPLP|Powerful laptop f...|          2|799.99|            80|        103|03-01-2023|29-12-2023|https://example.c...|2.0 kg|       NULL|        1|       5|STOREL9M0N1O2|      laptop|\n|PROD4E5F6G7H|Dell 27-inch Monitor|     DELLMON|High-resolution m...|          2|299.99|           120|        104|04-01-2023|28-12-2023|https://example.c...|5.0 kg|       NULL|        1|     5.5|STORE3P4Q5R6S|      laptop|\n|PROD2I3J4K5L|  Sony PlayStation 5|         PS5|Next-gen gaming c...|          3|499.99|            70|        105|05-01-2023|27-12-2023|https://example.c...|6.0 kg|       NULL|        1|       6|STORE7T8U9V0W| playstation|\n|PROD6M7N8O9P|     Nintendo Switch|         NSW|Hybrid gaming con...|          3|299.99|            90|        106|06-01-2023|26-12-2023|https://example.c...|4.0 kg|       NULL|        1|       5|STOREX1Y2Z3A4| playstation|\n|PROD4Q5R6S7T|Amazon Echo Dot (...|       ECHO4|Smart speaker wit...|          4| 49.99|           200|        107|07-01-2023|25-12-2023|https://example.c...|0.3 kg|       NULL|        1|       4|STORE5B6C7D8E|    e-device|\n| PROD8U9V1W2| Canon EOS Rebel T7i|    REBELT7I|DSLR camera for p...|          4|699.99|            60|        108|08-01-2023|24-12-2023|https://example.c...|1.5 kg|       NULL|        1|     5.5|STORE9F0G1H2I|    e-device|\n| PROD3X4Y5Z6|     Fitbit Charge 5|    FITBITC5|Advanced fitness ...|          4|179.99|           250|        109|09-01-2023|23-12-2023|https://example.c...|0.2 kg|       NULL|        1|       4|STORE3J4K5L6M|    e-device|\n| PROD7A8B9C0|Logitech MX Master 3|     LOGIMX3|High-precision wi...|          4| 99.99|           300|        110|10-01-2023|22-12-2023|https://example.c...|0.1 kg|       NULL|        1|       5|STORE7N8O9P0Q|    e-device|\n|  PROD1A23B4|     Apple iPhone 12|      IPHN12|The latest iPhone...|          1|999.99|           100|        101|01-01-2023|31-12-2023|https://example.c...|0.5 kg|       NULL|        1|       5|STORE9F0G1H2I|       phone|\n| PROD5C67D8E|  Samsung Galaxy S21|       SGS21|High-performance ...|          1|899.99|           150|        102|02-01-2023|30-12-2023|https://example.c...|0.6 kg|       NULL|        1|     4.5|STORE3J4K5L6M|       phone|\n|PRODA9B1C2D3|  HP Pavilion Laptop|      HPVPLP|Powerful laptop f...|          2|799.99|            80|        103|03-01-2023|29-12-2023|https://example.c...|2.0 kg|       NULL|        1|       5|STORE7N8O9P0Q|      laptop|\n|  PROD1A23B4|     Apple iPhone 12|      IPHN56|The latest iPhone...|          1|999.99|           100|        101|01-01-2023|31-12-2023|https://example.c...|0.5 kg|       NULL|        1|       5|STORE1D2E3F4G|       phone|\n| PROD5C67D8E|  Samsung Galaxy S21|       SGS21|High-performance ...|          1|  1800|           150|        102|02-01-2023|30-12-2023|https://example.c...|0.6 kg|       NULL|        1|     4.5|STORE5H6I7J8K|       phone|\n|PRODA9B1C2D3|  HP Pavilion Laptop|      HPVPLP|Powerful laptop f...|          2|  1200|            80|        103|03-01-2023|29-12-2023|https://example.c...|2.0 kg|       NULL|        1|       5|STOREL9M0N1O2|      laptop|\n+------------+--------------------+------------+--------------------+-----------+------+--------------+-----------+----------+----------+--------------------+------+-----------+---------+--------+-------------+------------+\n\n"
     ]
    }
   ],
   "source": [
    "\n",
    "from pyspark.sql.functions import udf, col\n",
    "from pyspark.sql.types import StringType\n",
    "import re\n",
    "\n",
    "# Q1\n",
    "df = spark.read.format(\"csv\").option(\"header\", \"true\").load(\"/mnt/bronze/products\")\n",
    "\n",
    "def camel_to_snake(name):\n",
    "    name = name.replace(\" \", \"_\")\n",
    "    s1 = re.sub('(.)([A-Z][a-z]+)', r'\\1\\2', name)\n",
    "    return re.sub('([a-z0-9])([A-Z])', r'\\1\\2', s1).lower()\n",
    "\n",
    "# Register the function as a UDF\n",
    "camel_to_snake_udf = udf(camel_to_snake, StringType())\n",
    "\n",
    "# Apply the UDF to column names and select with new column names\n",
    "df = df.select(*[col(c).alias(camel_to_snake(c)) for c in df.columns])\n",
    "\n",
    "# Show the result\n",
    "df.show()\n",
    "\n",
    "#Q2\n",
    "df = df.withColumn(\n",
    "    \"sub_category\",\n",
    "    when(col(\"category_id\") == 1, \"phone\")\n",
    "    .when(col(\"category_id\") == 2, \"laptop\")\n",
    "    .when(col(\"category_id\") == 3, \"playstation\")\n",
    "    .when(col(\"category_id\") == 4, \"e-device\")\n",
    "    .otherwise(\"unknown\")  # Handling potential unknown category_ids\n",
    ")\n",
    "# Show the result\n",
    "df.show()\n",
    "\n",
    "# Location of the Delta table\n",
    "delta_path = \"dbfs:/mnt/silver/sales_view/products/\"\n",
    "\n",
    "df.write.format(\"delta\").mode(\"overwrite\").save(delta_path)"
   ]
  },
  {
   "cell_type": "code",
   "execution_count": 0,
   "metadata": {
    "application/vnd.databricks.v1+cell": {
     "cellMetadata": {
      "byteLimit": 2048000,
      "rowLimit": 10000
     },
     "inputWidgets": {},
     "nuid": "962d22ad-e72d-4c76-a262-6adbcd89870c",
     "showTitle": false,
     "title": ""
    }
   },
   "outputs": [
    {
     "output_type": "stream",
     "name": "stdout",
     "output_type": "stream",
     "text": [
      "+-------------+--------------+-------------+---------------+--------------+--------------------+------------+-------------------+----------+----------+\n|     store_id|    store_name|     location|   manager_name|  phone_number|       email_address|opening_date|         store_type|created_at|updated_at|\n+-------------+--------------+-------------+---------------+--------------+--------------------+------------+-------------------+----------+----------+\n|STORE1D2E3F4G|      MusicHut|       Denver|   Robert White|(123) 456-7890|robertwhite@music...|       44136|Music & Instruments|11-01-2023|21-12-2023|\n|STORE5H6I7J8K|  ArtisticNest|      Phoenix|    Laura Green|(456) 789-0123|lauragreen@artist...|       44166|       Art Supplies|12-01-2023|20-12-2023|\n|STOREL9M0N1O2|   OutdoorLife|     Portland|    Steven Gray|(789) 012-3456|stevengray@outdoo...|       44197|  Outdoor Equipment|13-01-2023|19-12-2023|\n|STORE3P4Q5R6S|     HealthHub|    Baltimore| Patricia Adams|(012) 345-6789|patriciaadams@hea...|       44228|  Health & Wellness|14-01-2023|18-12-2023|\n|STORE7T8U9V0W|      HomeTech|      Orlando| Charles Harris|(234) 567-8901|charlesharris@hom...|       44256|    Home Appliances|15-01-2023|17-12-2023|\n|STOREX1Y2Z3A4|      AutoZone|      Detroit|     Daniel Lee|(345) 678-9012|daniellee@autozon...|       44287|         Auto Parts|16-01-2023|16-12-2023|\n|STORE5B6C7D8E|   Fashionista| Philadelphia|      Amy Smith|(567) 890-1234|amysmith@fashioni...|       44317|Fashion Accessories|17-01-2023|15-12-2023|\n|STORE9F0G1H2I| ElectroFusion|    San Diego|  George Wilson|(678) 901-2345|georgewilson@elec...|       44348|Electrical Supplies|18-01-2023|14-12-2023|\n|STORE3J4K5L6M|   GreenGrocer|  Minneapolis|   Mary Johnson|(890) 123-4567|maryjohnson@green...|       44378|      Organic Foods|19-01-2023|13-12-2023|\n|STORE7N8O9P0Q|      GameSpot|    Charlotte|   Andrew Clark|(901) 234-5678|andrewclark@games...|       44409|        Video Games|20-01-2023|12-12-2023|\n|  STORE1A23B4|   ElectroMart|     New York|       John Doe|(123) 456-7890|johndoe@electroma...|       43831|        Electronics|01-01-2023|31-12-2023|\n| STORE5C67D8E|   FashionWave|  Los Angeles|     Jane Smith|(456) 789-0123|janesmith@fashion...|       43862|           Clothing|02-01-2023|30-12-2023|\n|STOREA9B1C2D3|    HomeGarden|      Chicago|Michael Johnson|(789) 012-3456|michaeljohnson@ho...|       43891|      Home & Garden|03-01-2023|29-12-2023|\n|STORE4E5F6G7H|      BookNest|      Houston|    Emily Brown|(012) 345-6789|emilybrown@bookne...|       43922|              Books|04-01-2023|28-12-2023|\n|STORE2I3J4K5L|     SportZone|        Miami| William Wilson|(234) 567-8901|williamwilson@spo...|       43952|     Sporting Goods|05-01-2023|27-12-2023|\n|STORE6M7N8O9P|   BeautyHaven|San Francisco|     Emma Davis|(345) 678-9012|emmadavis@beautyh...|       43983| Beauty & Cosmetics|06-01-2023|26-12-2023|\n|STORE4Q5R6S7T|FurnitureWorld|       Dallas|   David Miller|(567) 890-1234|davidmiller@furni...|       44013|          Furniture|07-01-2023|25-12-2023|\n| STORE8U9V1W2|   FoodDelight|      Atlanta|   Susan Wilson|(678) 901-2345|susanwilson@foodd...|       44044|          Groceries|08-01-2023|24-12-2023|\n| STORE3X4Y5Z6|     ToyPlanet|      Seattle| James Anderson|(890) 123-4567|jamesanderson@toy...|       44075|       Toys & Games|09-01-2023|23-12-2023|\n| STORE7A8B9C0|   PetParadise|       Boston|    Linda Clark|(901) 234-5678|lindaclark@petpar...|       44105|       Pet Supplies|10-01-2023|22-12-2023|\n+-------------+--------------+-------------+---------------+--------------+--------------------+------------+-------------------+----------+----------+\nonly showing top 20 rows\n\n+-------------+--------------+-------------+---------------+--------------+--------------------+------------+-------------------+----------+----------+--------------+\n|     store_id|    store_name|     location|   manager_name|  phone_number|       email_address|opening_date|         store_type|created_at|updated_at|store_category|\n+-------------+--------------+-------------+---------------+--------------+--------------------+------------+-------------------+----------+----------+--------------+\n|STORE1D2E3F4G|      MusicHut|       Denver|   Robert White|(123) 456-7890|robertwhite@music...|       44136|Music & Instruments|11-01-2023|21-12-2023|      musichut|\n|STORE5H6I7J8K|  ArtisticNest|      Phoenix|    Laura Green|(456) 789-0123|lauragreen@artist...|       44166|       Art Supplies|12-01-2023|20-12-2023|  artisticnest|\n|STOREL9M0N1O2|   OutdoorLife|     Portland|    Steven Gray|(789) 012-3456|stevengray@outdoo...|       44197|  Outdoor Equipment|13-01-2023|19-12-2023|   outdoorlife|\n|STORE3P4Q5R6S|     HealthHub|    Baltimore| Patricia Adams|(012) 345-6789|patriciaadams@hea...|       44228|  Health & Wellness|14-01-2023|18-12-2023|     healthhub|\n|STORE7T8U9V0W|      HomeTech|      Orlando| Charles Harris|(234) 567-8901|charlesharris@hom...|       44256|    Home Appliances|15-01-2023|17-12-2023|      hometech|\n|STOREX1Y2Z3A4|      AutoZone|      Detroit|     Daniel Lee|(345) 678-9012|daniellee@autozon...|       44287|         Auto Parts|16-01-2023|16-12-2023|      autozone|\n|STORE5B6C7D8E|   Fashionista| Philadelphia|      Amy Smith|(567) 890-1234|amysmith@fashioni...|       44317|Fashion Accessories|17-01-2023|15-12-2023|   fashionista|\n|STORE9F0G1H2I| ElectroFusion|    San Diego|  George Wilson|(678) 901-2345|georgewilson@elec...|       44348|Electrical Supplies|18-01-2023|14-12-2023| electrofusion|\n|STORE3J4K5L6M|   GreenGrocer|  Minneapolis|   Mary Johnson|(890) 123-4567|maryjohnson@green...|       44378|      Organic Foods|19-01-2023|13-12-2023|   greengrocer|\n|STORE7N8O9P0Q|      GameSpot|    Charlotte|   Andrew Clark|(901) 234-5678|andrewclark@games...|       44409|        Video Games|20-01-2023|12-12-2023|      gamespot|\n|  STORE1A23B4|   ElectroMart|     New York|       John Doe|(123) 456-7890|johndoe@electroma...|       43831|        Electronics|01-01-2023|31-12-2023|   electromart|\n| STORE5C67D8E|   FashionWave|  Los Angeles|     Jane Smith|(456) 789-0123|janesmith@fashion...|       43862|           Clothing|02-01-2023|30-12-2023|   fashionwave|\n|STOREA9B1C2D3|    HomeGarden|      Chicago|Michael Johnson|(789) 012-3456|michaeljohnson@ho...|       43891|      Home & Garden|03-01-2023|29-12-2023|    homegarden|\n|STORE4E5F6G7H|      BookNest|      Houston|    Emily Brown|(012) 345-6789|emilybrown@bookne...|       43922|              Books|04-01-2023|28-12-2023|      booknest|\n|STORE2I3J4K5L|     SportZone|        Miami| William Wilson|(234) 567-8901|williamwilson@spo...|       43952|     Sporting Goods|05-01-2023|27-12-2023|     sportzone|\n|STORE6M7N8O9P|   BeautyHaven|San Francisco|     Emma Davis|(345) 678-9012|emmadavis@beautyh...|       43983| Beauty & Cosmetics|06-01-2023|26-12-2023|   beautyhaven|\n|STORE4Q5R6S7T|FurnitureWorld|       Dallas|   David Miller|(567) 890-1234|davidmiller@furni...|       44013|          Furniture|07-01-2023|25-12-2023|furnitureworld|\n| STORE8U9V1W2|   FoodDelight|      Atlanta|   Susan Wilson|(678) 901-2345|susanwilson@foodd...|       44044|          Groceries|08-01-2023|24-12-2023|   fooddelight|\n| STORE3X4Y5Z6|     ToyPlanet|      Seattle| James Anderson|(890) 123-4567|jamesanderson@toy...|       44075|       Toys & Games|09-01-2023|23-12-2023|     toyplanet|\n| STORE7A8B9C0|   PetParadise|       Boston|    Linda Clark|(901) 234-5678|lindaclark@petpar...|       44105|       Pet Supplies|10-01-2023|22-12-2023|   petparadise|\n+-------------+--------------+-------------+---------------+--------------+--------------------+------------+-------------------+----------+----------+--------------+\nonly showing top 20 rows\n\n+-------------+--------------+-------------+---------------+--------------+--------------------+------------+-------------------+----------+----------+--------------+\n|     store_id|    store_name|     location|   manager_name|  phone_number|       email_address|opening_date|         store_type|created_at|updated_at|store_category|\n+-------------+--------------+-------------+---------------+--------------+--------------------+------------+-------------------+----------+----------+--------------+\n|STORE1D2E3F4G|      MusicHut|       Denver|   Robert White|(123) 456-7890|robertwhite@music...|       44136|Music & Instruments|2023-01-11|2023-12-21|      musichut|\n|STORE5H6I7J8K|  ArtisticNest|      Phoenix|    Laura Green|(456) 789-0123|lauragreen@artist...|       44166|       Art Supplies|2023-01-12|2023-12-20|  artisticnest|\n|STOREL9M0N1O2|   OutdoorLife|     Portland|    Steven Gray|(789) 012-3456|stevengray@outdoo...|       44197|  Outdoor Equipment|2023-01-13|2023-12-19|   outdoorlife|\n|STORE3P4Q5R6S|     HealthHub|    Baltimore| Patricia Adams|(012) 345-6789|patriciaadams@hea...|       44228|  Health & Wellness|2023-01-14|2023-12-18|     healthhub|\n|STORE7T8U9V0W|      HomeTech|      Orlando| Charles Harris|(234) 567-8901|charlesharris@hom...|       44256|    Home Appliances|2023-01-15|2023-12-17|      hometech|\n|STOREX1Y2Z3A4|      AutoZone|      Detroit|     Daniel Lee|(345) 678-9012|daniellee@autozon...|       44287|         Auto Parts|2023-01-16|2023-12-16|      autozone|\n|STORE5B6C7D8E|   Fashionista| Philadelphia|      Amy Smith|(567) 890-1234|amysmith@fashioni...|       44317|Fashion Accessories|2023-01-17|2023-12-15|   fashionista|\n|STORE9F0G1H2I| ElectroFusion|    San Diego|  George Wilson|(678) 901-2345|georgewilson@elec...|       44348|Electrical Supplies|2023-01-18|2023-12-14| electrofusion|\n|STORE3J4K5L6M|   GreenGrocer|  Minneapolis|   Mary Johnson|(890) 123-4567|maryjohnson@green...|       44378|      Organic Foods|2023-01-19|2023-12-13|   greengrocer|\n|STORE7N8O9P0Q|      GameSpot|    Charlotte|   Andrew Clark|(901) 234-5678|andrewclark@games...|       44409|        Video Games|2023-01-20|2023-12-12|      gamespot|\n|  STORE1A23B4|   ElectroMart|     New York|       John Doe|(123) 456-7890|johndoe@electroma...|       43831|        Electronics|2023-01-01|2023-12-31|   electromart|\n| STORE5C67D8E|   FashionWave|  Los Angeles|     Jane Smith|(456) 789-0123|janesmith@fashion...|       43862|           Clothing|2023-01-02|2023-12-30|   fashionwave|\n|STOREA9B1C2D3|    HomeGarden|      Chicago|Michael Johnson|(789) 012-3456|michaeljohnson@ho...|       43891|      Home & Garden|2023-01-03|2023-12-29|    homegarden|\n|STORE4E5F6G7H|      BookNest|      Houston|    Emily Brown|(012) 345-6789|emilybrown@bookne...|       43922|              Books|2023-01-04|2023-12-28|      booknest|\n|STORE2I3J4K5L|     SportZone|        Miami| William Wilson|(234) 567-8901|williamwilson@spo...|       43952|     Sporting Goods|2023-01-05|2023-12-27|     sportzone|\n|STORE6M7N8O9P|   BeautyHaven|San Francisco|     Emma Davis|(345) 678-9012|emmadavis@beautyh...|       43983| Beauty & Cosmetics|2023-01-06|2023-12-26|   beautyhaven|\n|STORE4Q5R6S7T|FurnitureWorld|       Dallas|   David Miller|(567) 890-1234|davidmiller@furni...|       44013|          Furniture|2023-01-07|2023-12-25|furnitureworld|\n| STORE8U9V1W2|   FoodDelight|      Atlanta|   Susan Wilson|(678) 901-2345|susanwilson@foodd...|       44044|          Groceries|2023-01-08|2023-12-24|   fooddelight|\n| STORE3X4Y5Z6|     ToyPlanet|      Seattle| James Anderson|(890) 123-4567|jamesanderson@toy...|       44075|       Toys & Games|2023-01-09|2023-12-23|     toyplanet|\n| STORE7A8B9C0|   PetParadise|       Boston|    Linda Clark|(901) 234-5678|lindaclark@petpar...|       44105|       Pet Supplies|2023-01-10|2023-12-22|   petparadise|\n+-------------+--------------+-------------+---------------+--------------+--------------------+------------+-------------------+----------+----------+--------------+\nonly showing top 20 rows\n\n"
     ]
    }
   ],
   "source": [
    "\n",
    "from pyspark.sql.functions import udf, col\n",
    "from pyspark.sql.types import StringType\n",
    "from pyspark.sql.functions import when, col, split, to_date, date_format\n",
    "import re\n",
    "\n",
    "# Q1\n",
    "df = spark.read.format(\"csv\").option(\"header\", \"true\").load(\"/mnt/bronze/store\")\n",
    "\n",
    "def camel_to_snake(name):\n",
    "    name = name.replace(\" \", \"_\")\n",
    "    s1 = re.sub('(.)([A-Z][a-z]+)', r'\\1\\2', name)\n",
    "    return re.sub('([a-z0-9])([A-Z])', r'\\1\\2', s1).lower()\n",
    "\n",
    "# Register the function as a UDF\n",
    "camel_to_snake_udf = udf(camel_to_snake, StringType())\n",
    "\n",
    "# Apply the UDF to column names and select with new column names\n",
    "df = df.select(*[col(c).alias(camel_to_snake(c)) for c in df.columns])\n",
    "\n",
    "# Show the result\n",
    "df.show()\n",
    "\n",
    "#Q2\n",
    "df = df.withColumn(\"store_category\", split(split(col(\"email_address\"), \"@\").getItem(1), \"\\\\.\")[0])\n",
    "# Show the result\n",
    "df.show()\n",
    "\n",
    "#Q3\n",
    "df = df.withColumn(\"created_at\", date_format(to_date(split(col(\"created_at\"), \" \").getItem(0), \"dd-MM-yyyy\"), \"yyyy-MM-dd\"))\n",
    "df = df.withColumn(\"updated_at\", date_format(to_date(split(col(\"updated_at\"), \" \").getItem(0), \"dd-MM-yyyy\"), \"yyyy-MM-dd\"))\n",
    "# Show the result\n",
    "df.show()\n",
    "\n",
    "# Location of the Delta table\n",
    "delta_path = \"dbfs:/mnt/silver/sales_view/store/\"\n",
    "\n",
    "df.write.format(\"delta\").mode(\"overwrite\").save(delta_path)"
   ]
  },
  {
   "cell_type": "code",
   "execution_count": 0,
   "metadata": {
    "application/vnd.databricks.v1+cell": {
     "cellMetadata": {
      "byteLimit": 2048000,
      "rowLimit": 10000
     },
     "inputWidgets": {},
     "nuid": "767ee1da-8261-4b3f-94aa-525d0ac7ab30",
     "showTitle": false,
     "title": ""
    }
   },
   "outputs": [
    {
     "output_type": "stream",
     "name": "stdout",
     "output_type": "stream",
     "text": [
      "+--------------------+---------------+--------------+-------------+----------+--------------+----------+------------+------+--------+------+-----+---------+--------------------+--------------+--------------+--------+---------+\n|           orderdate|       category|          city|      country|customerid|       orderid|postalcode|  product_id|profit|quantity|region|sales|  segment|            shipdate|      shipmode|         state|latitude|longitude|\n+--------------------+---------------+--------------+-------------+----------+--------------+----------+------------+------+--------+------+-----+---------+--------------------+--------------+--------------+--------+---------+\n|2011-01-11T00:00:...|Office Supplies|   Springfield|United States|  amxar881|CA-2011-149020|     22153| PROD7A8B9C0|     1|       1| South|    3|Corporate|2011-01-16T00:00:...|Standard Class|      Virginia| 38.7449|  -77.237|\n|2011-01-12T00:00:...|      Furniture|         Dover|United States|  amxra702|CA-2011-130092|     19901|  PROD1A23B4|     3|       2|  East|   10| Consumer|2011-01-15T00:00:...|   First Class|      Delaware| 39.1564| -75.4955|\n|2011-01-14T00:00:...|      Furniture|Mount Pleasant|United States|  amxti476|CA-2011-109232|     29464| PROD5C67D8E|    87|       6| South|  546| Consumer|2011-01-17T00:00:...|  Second Class|South Carolina| 32.8473| -79.8206|\n|2011-01-14T00:00:...|      Furniture| San Francisco|United States|  amxky170|CA-2011-157147|     94109|PRODA9B1C2D3|     4|       3|  West|  334| Consumer|2011-01-19T00:00:...|Standard Class|    California| 37.7917|-122.4186|\n|2011-01-14T00:00:...|Office Supplies|  Bossier City|United States|  amxjo648|CA-2011-162775|     71111|  PROD1A23B4|    25|       3| South|   51|Corporate|2011-01-16T00:00:...|  Second Class|     Louisiana| 32.5449| -93.7038|\n|2011-01-14T00:00:...|Office Supplies|  Bossier City|United States|  amxan256|CA-2011-162775|     71111| PROD5C67D8E|    34|       6| South|  573|Corporate|2011-01-16T00:00:...|  Second Class|     Louisiana| 32.5449| -93.7038|\n|2011-01-14T00:00:...|Office Supplies|  Bossier City|United States|  amxda257|CA-2011-162775|     71111|PRODA9B1C2D3|     5|       2| South|   11|Corporate|2011-01-16T00:00:...|  Second Class|     Louisiana| 32.5449| -93.7038|\n|2011-01-14T00:00:...|Office Supplies|  Bossier City|United States|  amxki513|CA-2011-162775|     71111|PROD4E5F6G7H|     3|       3| South|    6|Corporate|2011-01-16T00:00:...|  Second Class|     Louisiana| 32.5449| -93.7038|\n|2011-01-14T00:00:...|Office Supplies|        Newark|United States|  amxer904|CA-2011-118192|     43055|PROD2I3J4K5L|    -3|       2|  East|    3| Consumer|2011-01-19T00:00:...|Standard Class|          Ohio| 40.0724| -82.4046|\n|2011-01-14T00:00:...|Office Supplies|        Newark|United States|  amxja681|CA-2011-118192|     43055|PROD6M7N8O9P|    13|       7|  East|   37| Consumer|2011-01-19T00:00:...|Standard Class|          Ohio| 40.0724| -82.4046|\n|2011-01-14T00:00:...|Office Supplies| San Francisco|United States|  amxde324|CA-2011-157147|     94109|PROD4Q5R6S7T|     7|       5|  West|   20| Consumer|2011-01-19T00:00:...|Standard Class|    California| 37.7917|-122.4186|\n|2011-01-14T00:00:...|Office Supplies| San Francisco|United States|  amxdi438|CA-2011-157147|     94109| PROD8U9V1W2|   239|       5|  West| 1326| Consumer|2011-01-19T00:00:...|Standard Class|    California| 37.7917|-122.4186|\n|2011-01-14T00:00:...|     Technology|  Bossier City|United States|  amxco721|CA-2011-162775|     71111| PROD3X4Y5Z6|   259|       6| South|  647|Corporate|2011-01-16T00:00:...|  Second Class|     Louisiana| 32.5449| -93.7038|\n|2011-01-15T00:00:...|      Furniture|  Philadelphia|United States|  amxma249|CA-2011-149524|     19140| PROD7A8B9C0|   -53|       4|  East|   62|Corporate|2011-01-16T00:00:...|   First Class|  Pennsylvania| 40.0118| -75.1456|\n|2011-01-16T00:00:...|     Technology|       Roswell|United States|  amxco721|CA-2011-103366|     30076|  PROD1A23B4|    66|       5| South|  150| Consumer|2011-01-18T00:00:...|   First Class|       Georgia| 34.0213| -84.3104|\n|2011-01-17T00:00:...|      Furniture|  Philadelphia|United States|  amxma249|CA-2011-115791|     19134| PROD5C67D8E|    29|       6|  East|  127| Consumer|2011-01-19T00:00:...|  Second Class|  Pennsylvania| 39.9925| -75.1133|\n|2011-01-17T00:00:...|Office Supplies|  Philadelphia|United States|  amxar881|CA-2011-115791|     19134|PRODA9B1C2D3|   -14|       2|  East|   19| Consumer|2011-01-19T00:00:...|  Second Class|  Pennsylvania| 39.9925| -75.1133|\n|2011-01-17T00:00:...|Office Supplies|  Philadelphia|United States|  amxra702|CA-2011-115791|     19134|PROD4E5F6G7H|    10|       3|  East|   30| Consumer|2011-01-19T00:00:...|  Second Class|  Pennsylvania| 39.9925| -75.1133|\n|2011-01-17T00:00:...|     Technology|  Philadelphia|United States|  amxti476|CA-2011-115791|     19134|PROD2I3J4K5L|   -31|       3|  East|  124| Consumer|2011-01-19T00:00:...|  Second Class|  Pennsylvania| 39.9925| -75.1133|\n|2011-01-19T00:00:...|Office Supplies|   Springfield|United States|  amxky170|CA-2011-123477|     97477|PROD6M7N8O9P|     6|       4|  West|   65|Corporate|2011-01-22T00:00:...|  Second Class|        Oregon| 44.0611|-123.0153|\n+--------------------+---------------+--------------+-------------+----------+--------------+----------+------------+------+--------+------+-----+---------+--------------------+--------------+--------------+--------+---------+\nonly showing top 20 rows\n\n"
     ]
    }
   ],
   "source": [
    "\n",
    "from pyspark.sql.functions import udf, col\n",
    "from pyspark.sql.types import StringType\n",
    "from pyspark.sql.functions import when, col, split, to_date, date_format\n",
    "import re\n",
    "\n",
    "# Q1\n",
    "df = spark.read.format(\"csv\").option(\"header\", \"true\").load(\"/mnt/bronze/sales\")\n",
    "\n",
    "def camel_to_snake(name):\n",
    "    name = name.replace(\" \", \"_\")\n",
    "    s1 = re.sub('(.)([A-Z][a-z]+)', r'\\1\\2', name)\n",
    "    return re.sub('([a-z0-9])([A-Z])', r'\\1\\2', s1).lower()\n",
    "\n",
    "# Register the function as a UDF\n",
    "camel_to_snake_udf = udf(camel_to_snake, StringType())\n",
    "\n",
    "# Apply the UDF to column names and select with new column names\n",
    "df = df.select(*[col(c).alias(camel_to_snake(c)) for c in df.columns])\n",
    "\n",
    "# Show the result\n",
    "df.show()\n",
    "\n",
    "# Location of the Delta table\n",
    "delta_path = \"dbfs:/mnt/silver/sales_view/customer_sales/\"\n",
    "\n",
    "df.write.format(\"delta\").mode(\"overwrite\").save(delta_path)\n"
   ]
  },
  {
   "cell_type": "code",
   "execution_count": 0,
   "metadata": {
    "application/vnd.databricks.v1+cell": {
     "cellMetadata": {
      "byteLimit": 2048000,
      "rowLimit": 10000
     },
     "inputWidgets": {},
     "nuid": "b087c995-891d-417a-b655-ceba6501846f",
     "showTitle": false,
     "title": ""
    }
   },
   "outputs": [
    {
     "output_type": "stream",
     "name": "stdout",
     "output_type": "stream",
     "text": [
      "+--------------------+---------------+--------------+-------------+--------+--------------+-----+------------+---+---+-----+----+---------+--------------------+--------------+--------------+-------+---------+\n|                 _c0|            _c1|           _c2|          _c3|     _c4|           _c5|  _c6|         _c7|_c8|_c9| _c10|_c11|     _c12|                _c13|          _c14|          _c15|   _c16|     _c17|\n+--------------------+---------------+--------------+-------------+--------+--------------+-----+------------+---+---+-----+----+---------+--------------------+--------------+--------------+-------+---------+\n|2011-01-11T00:00:...|Office Supplies|   Springfield|United States|amxar881|CA-2011-149020|22153| PROD7A8B9C0|  1|  1|South|   3|Corporate|2011-01-16T00:00:...|Standard Class|      Virginia|38.7449|  -77.237|\n|2011-01-12T00:00:...|      Furniture|         Dover|United States|amxra702|CA-2011-130092|19901|  PROD1A23B4|  3|  2| East|  10| Consumer|2011-01-15T00:00:...|   First Class|      Delaware|39.1564| -75.4955|\n|2011-01-14T00:00:...|      Furniture|Mount Pleasant|United States|amxti476|CA-2011-109232|29464| PROD5C67D8E| 87|  6|South| 546| Consumer|2011-01-17T00:00:...|  Second Class|South Carolina|32.8473| -79.8206|\n|2011-01-14T00:00:...|      Furniture| San Francisco|United States|amxky170|CA-2011-157147|94109|PRODA9B1C2D3|  4|  3| West| 334| Consumer|2011-01-19T00:00:...|Standard Class|    California|37.7917|-122.4186|\n|2011-01-14T00:00:...|Office Supplies|  Bossier City|United States|amxjo648|CA-2011-162775|71111|  PROD1A23B4| 25|  3|South|  51|Corporate|2011-01-16T00:00:...|  Second Class|     Louisiana|32.5449| -93.7038|\n|2011-01-14T00:00:...|Office Supplies|  Bossier City|United States|amxan256|CA-2011-162775|71111| PROD5C67D8E| 34|  6|South| 573|Corporate|2011-01-16T00:00:...|  Second Class|     Louisiana|32.5449| -93.7038|\n|2011-01-14T00:00:...|Office Supplies|  Bossier City|United States|amxda257|CA-2011-162775|71111|PRODA9B1C2D3|  5|  2|South|  11|Corporate|2011-01-16T00:00:...|  Second Class|     Louisiana|32.5449| -93.7038|\n|2011-01-14T00:00:...|Office Supplies|  Bossier City|United States|amxki513|CA-2011-162775|71111|PROD4E5F6G7H|  3|  3|South|   6|Corporate|2011-01-16T00:00:...|  Second Class|     Louisiana|32.5449| -93.7038|\n|2011-01-14T00:00:...|Office Supplies|        Newark|United States|amxer904|CA-2011-118192|43055|PROD2I3J4K5L| -3|  2| East|   3| Consumer|2011-01-19T00:00:...|Standard Class|          Ohio|40.0724| -82.4046|\n|2011-01-14T00:00:...|Office Supplies|        Newark|United States|amxja681|CA-2011-118192|43055|PROD6M7N8O9P| 13|  7| East|  37| Consumer|2011-01-19T00:00:...|Standard Class|          Ohio|40.0724| -82.4046|\n|2011-01-14T00:00:...|Office Supplies| San Francisco|United States|amxde324|CA-2011-157147|94109|PROD4Q5R6S7T|  7|  5| West|  20| Consumer|2011-01-19T00:00:...|Standard Class|    California|37.7917|-122.4186|\n|2011-01-14T00:00:...|Office Supplies| San Francisco|United States|amxdi438|CA-2011-157147|94109| PROD8U9V1W2|239|  5| West|1326| Consumer|2011-01-19T00:00:...|Standard Class|    California|37.7917|-122.4186|\n|2011-01-14T00:00:...|     Technology|  Bossier City|United States|amxco721|CA-2011-162775|71111| PROD3X4Y5Z6|259|  6|South| 647|Corporate|2011-01-16T00:00:...|  Second Class|     Louisiana|32.5449| -93.7038|\n|2011-01-15T00:00:...|      Furniture|  Philadelphia|United States|amxma249|CA-2011-149524|19140| PROD7A8B9C0|-53|  4| East|  62|Corporate|2011-01-16T00:00:...|   First Class|  Pennsylvania|40.0118| -75.1456|\n|2011-01-16T00:00:...|     Technology|       Roswell|United States|amxco721|CA-2011-103366|30076|  PROD1A23B4| 66|  5|South| 150| Consumer|2011-01-18T00:00:...|   First Class|       Georgia|34.0213| -84.3104|\n|2011-01-17T00:00:...|      Furniture|  Philadelphia|United States|amxma249|CA-2011-115791|19134| PROD5C67D8E| 29|  6| East| 127| Consumer|2011-01-19T00:00:...|  Second Class|  Pennsylvania|39.9925| -75.1133|\n|2011-01-17T00:00:...|Office Supplies|  Philadelphia|United States|amxar881|CA-2011-115791|19134|PRODA9B1C2D3|-14|  2| East|  19| Consumer|2011-01-19T00:00:...|  Second Class|  Pennsylvania|39.9925| -75.1133|\n|2011-01-17T00:00:...|Office Supplies|  Philadelphia|United States|amxra702|CA-2011-115791|19134|PROD4E5F6G7H| 10|  3| East|  30| Consumer|2011-01-19T00:00:...|  Second Class|  Pennsylvania|39.9925| -75.1133|\n|2011-01-17T00:00:...|     Technology|  Philadelphia|United States|amxti476|CA-2011-115791|19134|PROD2I3J4K5L|-31|  3| East| 124| Consumer|2011-01-19T00:00:...|  Second Class|  Pennsylvania|39.9925| -75.1133|\n|2011-01-19T00:00:...|Office Supplies|   Springfield|United States|amxky170|CA-2011-123477|97477|PROD6M7N8O9P|  6|  4| West|  65|Corporate|2011-01-22T00:00:...|  Second Class|        Oregon|44.0611|-123.0153|\n+--------------------+---------------+--------------+-------------+--------+--------------+-----+------------+---+---+-----+----+---------+--------------------+--------------+--------------+-------+---------+\nonly showing top 20 rows\n\nDelta table does not exist at the specified path.\n"
     ]
    },
    {
     "output_type": "execute_result",
     "data": {
      "text/plain": [
       "True"
      ]
     },
     "execution_count": 153,
     "metadata": {},
     "output_type": "execute_result"
    }
   ],
   "source": [
    "delta_path = \"dbfs:/mnt/silver/sales_view/customer_sales/\"\n",
    "\n",
    "verified_df = spark.read.format(\"csv\").load(delta_path)\n",
    "verified_df.show()\n",
    "\n",
    "from pyspark.sql import SparkSession\n",
    "from delta.tables import DeltaTable\n",
    "\n",
    "# Initialize Spark Session (Assuming it's not already started)\n",
    "spark = SparkSession.builder.appName(\"Delete Delta Table\").getOrCreate()\n",
    "\n",
    "# Check if the Delta table exists\n",
    "if DeltaTable.isDeltaTable(spark, delta_path):\n",
    "    print(\"Delta table exists and will be deleted.\")\n",
    "else:\n",
    "    print(\"Delta table does not exist at the specified path.\")\n",
    "\n",
    "dbutils.fs.rm(delta_path, recurse=True)"
   ]
  },
  {
   "cell_type": "code",
   "execution_count": 0,
   "metadata": {
    "application/vnd.databricks.v1+cell": {
     "cellMetadata": {
      "byteLimit": 2048000,
      "rowLimit": 10000
     },
     "inputWidgets": {},
     "nuid": "a1d11643-8dd8-4bf3-80e5-583ba3a52cde",
     "showTitle": false,
     "title": ""
    }
   },
   "outputs": [
    {
     "output_type": "display_data",
     "data": {
      "text/html": [
       "<style scoped>\n",
       "  .ansiout {\n",
       "    display: block;\n",
       "    unicode-bidi: embed;\n",
       "    white-space: pre-wrap;\n",
       "    word-wrap: break-word;\n",
       "    word-break: break-all;\n",
       "    font-family: \"Menlo\", \"Monaco\", \"Consolas\", \"Ubuntu Mono\", \"Source Code Pro\", monospace;\n",
       "    font-size: 13px;\n",
       "    color: #555;\n",
       "    margin-left: 4px;\n",
       "    line-height: 19px;\n",
       "  }\n",
       "</style>\n",
       "<div class=\"ansiout\">configs: scala.collection.immutable.Map[String,String] = Map(fs.azure.account.key.adfassignmentanjali.blob.core.windows.net -&gt; VlzvQe3d8+oEN5dnPo6tW7B4B6jxNWsDyNkNcrs+CvvXl2WLsHUdWSNSFtDz06smCLIyEVVF5FMC+AStb3Wu2Q==)\n",
       "res6: Boolean = true\n",
       "</div>"
      ]
     },
     "metadata": {
      "application/vnd.databricks.v1+output": {
       "addedWidgets": {},
       "arguments": {},
       "data": "<div class=\"ansiout\">configs: scala.collection.immutable.Map[String,String] = Map(fs.azure.account.key.adfassignmentanjali.blob.core.windows.net -&gt; VlzvQe3d8+oEN5dnPo6tW7B4B6jxNWsDyNkNcrs+CvvXl2WLsHUdWSNSFtDz06smCLIyEVVF5FMC+AStb3Wu2Q==)\nres6: Boolean = true\n</div>",
       "datasetInfos": [],
       "metadata": {
        "isDbfsCommandResult": false
       },
       "removedWidgets": [],
       "type": "html"
      }
     },
     "output_type": "display_data"
    }
   ],
   "source": [
    "%scala\n",
    "val configs = Map(\n",
    "  \"fs.azure.account.key.adfassignmentanjali.blob.core.windows.net\" -> \"VlzvQe3d8+oEN5dnPo6tW7B4B6jxNWsDyNkNcrs+CvvXl2WLsHUdWSNSFtDz06smCLIyEVVF5FMC+AStb3Wu2Q==\"\n",
    ")\n",
    "dbutils.fs.mount(\n",
    "  source = \"wasbs://gold@adfassignmentanjali.blob.core.windows.net/\",\n",
    "  mountPoint = \"/mnt/gold/\",\n",
    "  extraConfigs = configs)\n",
    "  "
   ]
  },
  {
   "cell_type": "code",
   "execution_count": 0,
   "metadata": {
    "application/vnd.databricks.v1+cell": {
     "cellMetadata": {
      "byteLimit": 2048000,
      "rowLimit": 10000
     },
     "inputWidgets": {},
     "nuid": "bb91009f-c0d2-49de-8e1e-153e0a13e51a",
     "showTitle": false,
     "title": ""
    }
   },
   "outputs": [
    {
     "output_type": "stream",
     "name": "stdout",
     "output_type": "stream",
     "text": [
      "+-------------+-------------+------------+--------------+--------------------+------------+------------+--------------------+-----------+------+--------------+-----------+----------+----------+--------------------+------+-----------+---------+--------+\n|     store_id|   store_name|    location|  manager_name|        product_name|  product_id|product_code|         description|category_id| price|stock_quantity|supplier_id|created_at|updated_at|           image_url|weight|expiry_date|is_active|tax_rate|\n+-------------+-------------+------------+--------------+--------------------+------------+------------+--------------------+-----------+------+--------------+-----------+----------+----------+--------------------+------+-----------+---------+--------+\n|STORE1D2E3F4G|     MusicHut|      Denver|  Robert White|     Apple iPhone 12|  PROD1A23B4|      IPHN12|The latest iPhone...|          1|999.99|           100|        101|01-01-2023|31-12-2023|https://example.c...|0.5 kg|       NULL|        1|       5|\n|STORE5H6I7J8K| ArtisticNest|     Phoenix|   Laura Green|  Samsung Galaxy S21| PROD5C67D8E|       SGS21|High-performance ...|          1|899.99|           150|        102|02-01-2023|30-12-2023|https://example.c...|0.6 kg|       NULL|        1|     4.5|\n|STOREL9M0N1O2|  OutdoorLife|    Portland|   Steven Gray|  HP Pavilion Laptop|PRODA9B1C2D3|      HPVPLP|Powerful laptop f...|          2|799.99|            80|        103|03-01-2023|29-12-2023|https://example.c...|2.0 kg|       NULL|        1|       5|\n|STORE3P4Q5R6S|    HealthHub|   Baltimore|Patricia Adams|Dell 27-inch Monitor|PROD4E5F6G7H|     DELLMON|High-resolution m...|          2|299.99|           120|        104|04-01-2023|28-12-2023|https://example.c...|5.0 kg|       NULL|        1|     5.5|\n|STORE7T8U9V0W|     HomeTech|     Orlando|Charles Harris|  Sony PlayStation 5|PROD2I3J4K5L|         PS5|Next-gen gaming c...|          3|499.99|            70|        105|05-01-2023|27-12-2023|https://example.c...|6.0 kg|       NULL|        1|       6|\n|STOREX1Y2Z3A4|     AutoZone|     Detroit|    Daniel Lee|     Nintendo Switch|PROD6M7N8O9P|         NSW|Hybrid gaming con...|          3|299.99|            90|        106|06-01-2023|26-12-2023|https://example.c...|4.0 kg|       NULL|        1|       5|\n|STORE5B6C7D8E|  Fashionista|Philadelphia|     Amy Smith|Amazon Echo Dot (...|PROD4Q5R6S7T|       ECHO4|Smart speaker wit...|          4| 49.99|           200|        107|07-01-2023|25-12-2023|https://example.c...|0.3 kg|       NULL|        1|       4|\n|STORE9F0G1H2I|ElectroFusion|   San Diego| George Wilson| Canon EOS Rebel T7i| PROD8U9V1W2|    REBELT7I|DSLR camera for p...|          4|699.99|            60|        108|08-01-2023|24-12-2023|https://example.c...|1.5 kg|       NULL|        1|     5.5|\n|STORE3J4K5L6M|  GreenGrocer| Minneapolis|  Mary Johnson|     Fitbit Charge 5| PROD3X4Y5Z6|    FITBITC5|Advanced fitness ...|          4|179.99|           250|        109|09-01-2023|23-12-2023|https://example.c...|0.2 kg|       NULL|        1|       4|\n|STORE7N8O9P0Q|     GameSpot|   Charlotte|  Andrew Clark|Logitech MX Master 3| PROD7A8B9C0|     LOGIMX3|High-precision wi...|          4| 99.99|           300|        110|10-01-2023|22-12-2023|https://example.c...|0.1 kg|       NULL|        1|       5|\n|STORE9F0G1H2I|ElectroFusion|   San Diego| George Wilson|     Apple iPhone 12|  PROD1A23B4|      IPHN12|The latest iPhone...|          1|999.99|           100|        101|01-01-2023|31-12-2023|https://example.c...|0.5 kg|       NULL|        1|       5|\n|STORE3J4K5L6M|  GreenGrocer| Minneapolis|  Mary Johnson|  Samsung Galaxy S21| PROD5C67D8E|       SGS21|High-performance ...|          1|899.99|           150|        102|02-01-2023|30-12-2023|https://example.c...|0.6 kg|       NULL|        1|     4.5|\n|STORE7N8O9P0Q|     GameSpot|   Charlotte|  Andrew Clark|  HP Pavilion Laptop|PRODA9B1C2D3|      HPVPLP|Powerful laptop f...|          2|799.99|            80|        103|03-01-2023|29-12-2023|https://example.c...|2.0 kg|       NULL|        1|       5|\n|STORE1D2E3F4G|     MusicHut|      Denver|  Robert White|     Apple iPhone 12|  PROD1A23B4|      IPHN56|The latest iPhone...|          1|999.99|           100|        101|01-01-2023|31-12-2023|https://example.c...|0.5 kg|       NULL|        1|       5|\n|STORE5H6I7J8K| ArtisticNest|     Phoenix|   Laura Green|  Samsung Galaxy S21| PROD5C67D8E|       SGS21|High-performance ...|          1|  1800|           150|        102|02-01-2023|30-12-2023|https://example.c...|0.6 kg|       NULL|        1|     4.5|\n|STOREL9M0N1O2|  OutdoorLife|    Portland|   Steven Gray|  HP Pavilion Laptop|PRODA9B1C2D3|      HPVPLP|Powerful laptop f...|          2|  1200|            80|        103|03-01-2023|29-12-2023|https://example.c...|2.0 kg|       NULL|        1|       5|\n+-------------+-------------+------------+--------------+--------------------+------------+------------+--------------------+-----------+------+--------------+-----------+----------+----------+--------------------+------+-----------+---------+--------+\n\n+--------------------+---------------+--------------+-------------+----------+--------------+----------+------------+------+--------+------+-----+---------+--------------------+--------------+--------------+--------+---------+\n|           orderdate|       category|          city|      country|customerid|       orderid|postalcode|  product_id|profit|quantity|region|sales|  segment|            shipdate|      shipmode|         state|latitude|longitude|\n+--------------------+---------------+--------------+-------------+----------+--------------+----------+------------+------+--------+------+-----+---------+--------------------+--------------+--------------+--------+---------+\n|2011-01-11T00:00:...|Office Supplies|   Springfield|United States|  amxar881|CA-2011-149020|     22153| PROD7A8B9C0|     1|       1| South|    3|Corporate|2011-01-16T00:00:...|Standard Class|      Virginia| 38.7449|  -77.237|\n|2011-01-12T00:00:...|      Furniture|         Dover|United States|  amxra702|CA-2011-130092|     19901|  PROD1A23B4|     3|       2|  East|   10| Consumer|2011-01-15T00:00:...|   First Class|      Delaware| 39.1564| -75.4955|\n|2011-01-14T00:00:...|      Furniture|Mount Pleasant|United States|  amxti476|CA-2011-109232|     29464| PROD5C67D8E|    87|       6| South|  546| Consumer|2011-01-17T00:00:...|  Second Class|South Carolina| 32.8473| -79.8206|\n|2011-01-14T00:00:...|      Furniture| San Francisco|United States|  amxky170|CA-2011-157147|     94109|PRODA9B1C2D3|     4|       3|  West|  334| Consumer|2011-01-19T00:00:...|Standard Class|    California| 37.7917|-122.4186|\n|2011-01-14T00:00:...|Office Supplies|  Bossier City|United States|  amxjo648|CA-2011-162775|     71111|  PROD1A23B4|    25|       3| South|   51|Corporate|2011-01-16T00:00:...|  Second Class|     Louisiana| 32.5449| -93.7038|\n|2011-01-14T00:00:...|Office Supplies|  Bossier City|United States|  amxan256|CA-2011-162775|     71111| PROD5C67D8E|    34|       6| South|  573|Corporate|2011-01-16T00:00:...|  Second Class|     Louisiana| 32.5449| -93.7038|\n|2011-01-14T00:00:...|Office Supplies|  Bossier City|United States|  amxda257|CA-2011-162775|     71111|PRODA9B1C2D3|     5|       2| South|   11|Corporate|2011-01-16T00:00:...|  Second Class|     Louisiana| 32.5449| -93.7038|\n|2011-01-14T00:00:...|Office Supplies|  Bossier City|United States|  amxki513|CA-2011-162775|     71111|PROD4E5F6G7H|     3|       3| South|    6|Corporate|2011-01-16T00:00:...|  Second Class|     Louisiana| 32.5449| -93.7038|\n|2011-01-14T00:00:...|Office Supplies|        Newark|United States|  amxer904|CA-2011-118192|     43055|PROD2I3J4K5L|    -3|       2|  East|    3| Consumer|2011-01-19T00:00:...|Standard Class|          Ohio| 40.0724| -82.4046|\n|2011-01-14T00:00:...|Office Supplies|        Newark|United States|  amxja681|CA-2011-118192|     43055|PROD6M7N8O9P|    13|       7|  East|   37| Consumer|2011-01-19T00:00:...|Standard Class|          Ohio| 40.0724| -82.4046|\n|2011-01-14T00:00:...|Office Supplies| San Francisco|United States|  amxde324|CA-2011-157147|     94109|PROD4Q5R6S7T|     7|       5|  West|   20| Consumer|2011-01-19T00:00:...|Standard Class|    California| 37.7917|-122.4186|\n|2011-01-14T00:00:...|Office Supplies| San Francisco|United States|  amxdi438|CA-2011-157147|     94109| PROD8U9V1W2|   239|       5|  West| 1326| Consumer|2011-01-19T00:00:...|Standard Class|    California| 37.7917|-122.4186|\n|2011-01-14T00:00:...|     Technology|  Bossier City|United States|  amxco721|CA-2011-162775|     71111| PROD3X4Y5Z6|   259|       6| South|  647|Corporate|2011-01-16T00:00:...|  Second Class|     Louisiana| 32.5449| -93.7038|\n|2011-01-15T00:00:...|      Furniture|  Philadelphia|United States|  amxma249|CA-2011-149524|     19140| PROD7A8B9C0|   -53|       4|  East|   62|Corporate|2011-01-16T00:00:...|   First Class|  Pennsylvania| 40.0118| -75.1456|\n|2011-01-16T00:00:...|     Technology|       Roswell|United States|  amxco721|CA-2011-103366|     30076|  PROD1A23B4|    66|       5| South|  150| Consumer|2011-01-18T00:00:...|   First Class|       Georgia| 34.0213| -84.3104|\n|2011-01-17T00:00:...|      Furniture|  Philadelphia|United States|  amxma249|CA-2011-115791|     19134| PROD5C67D8E|    29|       6|  East|  127| Consumer|2011-01-19T00:00:...|  Second Class|  Pennsylvania| 39.9925| -75.1133|\n|2011-01-17T00:00:...|Office Supplies|  Philadelphia|United States|  amxar881|CA-2011-115791|     19134|PRODA9B1C2D3|   -14|       2|  East|   19| Consumer|2011-01-19T00:00:...|  Second Class|  Pennsylvania| 39.9925| -75.1133|\n|2011-01-17T00:00:...|Office Supplies|  Philadelphia|United States|  amxra702|CA-2011-115791|     19134|PROD4E5F6G7H|    10|       3|  East|   30| Consumer|2011-01-19T00:00:...|  Second Class|  Pennsylvania| 39.9925| -75.1133|\n|2011-01-17T00:00:...|     Technology|  Philadelphia|United States|  amxti476|CA-2011-115791|     19134|PROD2I3J4K5L|   -31|       3|  East|  124| Consumer|2011-01-19T00:00:...|  Second Class|  Pennsylvania| 39.9925| -75.1133|\n|2011-01-19T00:00:...|Office Supplies|   Springfield|United States|  amxky170|CA-2011-123477|     97477|PROD6M7N8O9P|     6|       4|  West|   65|Corporate|2011-01-22T00:00:...|  Second Class|        Oregon| 44.0611|-123.0153|\n+--------------------+---------------+--------------+-------------+----------+--------------+----------+------------+------+--------+------+-----+---------+--------------------+--------------+--------------+--------+---------+\nonly showing top 20 rows\n\n+--------------------+--------+------------+----------+--------------+-----------+------------+------+-------+-----+-----------+--------------------+--------------+-------------+------------+--------------+--------------------+------+--------------+--------------------+\n|           OrderDate|Category|        City|CustomerID|       OrderID|ProductCode|   ProductID|Profit| Region|Sales|    Segment|            ShipDate|      ShipMode|   store_name|    location|  manager_name|        product_name| price|stock_quantity|           image_url|\n+--------------------+--------+------------+----------+--------------+-----------+------------+------+-------+-----+-----------+--------------------+--------------+-------------+------------+--------------+--------------------+------+--------------+--------------------+\n|2011-01-21T00:00:...|       1|      Denver|  amxti476|CA-2011-167927|     IPHN12|  PROD1A23B4|    16|Central|   67|   Consumer|2011-01-27T00:00:...|Standard Class|     MusicHut|      Denver|  Robert White|     Apple iPhone 12|999.99|           100|https://example.c...|\n|2011-01-21T00:00:...|       1|     Phoenix|  amxky170|CA-2011-167927|      SGS21| PROD5C67D8E|    94|Central|  248|   Consumer|2011-01-27T00:00:...|Standard Class| ArtisticNest|     Phoenix|   Laura Green|  Samsung Galaxy S21|899.99|           150|https://example.c...|\n|2011-01-21T00:00:...|       2|    Portland|  amxco721|CA-2011-167927|     HPVPLP|PRODA9B1C2D3|    13|Central|   44|   Consumer|2011-01-27T00:00:...|Standard Class|  OutdoorLife|    Portland|   Steven Gray|  HP Pavilion Laptop|799.99|            80|https://example.c...|\n|2011-01-21T00:00:...|       2|   Baltimore|  amxma249|CA-2011-167927|    DELLMON|PROD4E5F6G7H|    13|Central|   30|   Consumer|2011-01-27T00:00:...|Standard Class|    HealthHub|   Baltimore|Patricia Adams|Dell 27-inch Monitor|299.99|           120|https://example.c...|\n|2011-01-08T00:00:...|       3|     Orlando|  amxja753|CA-2011-105417|        PS5|PROD2I3J4K5L|   -54|Central|   77|   Consumer|2011-01-13T00:00:...|Standard Class|     HomeTech|     Orlando|Charles Harris|  Sony PlayStation 5|499.99|            70|https://example.c...|\n|2011-01-08T00:00:...|       3|     Detroit|  amxda257|CA-2011-105417|        NSW|PROD6M7N8O9P|   -18|Central|   10|   Consumer|2011-01-13T00:00:...|Standard Class|     AutoZone|     Detroit|    Daniel Lee|     Nintendo Switch|299.99|            90|https://example.c...|\n|2011-01-20T00:00:...|       4|Philadelphia|  amxom769|CA-2011-146591|      ECHO4|PROD4Q5R6S7T|  -321|   West|  181|   Consumer|2011-01-21T00:00:...|   First Class|  Fashionista|Philadelphia|     Amy Smith|Amazon Echo Dot (...| 49.99|           200|https://example.c...|\n|2011-01-20T00:00:...|       4|   San Diego|  amxni473|CA-2011-146591|   REBELT7I| PROD8U9V1W2|   -24|   West|   32|   Consumer|2011-01-21T00:00:...|   First Class|ElectroFusion|   San Diego| George Wilson| Canon EOS Rebel T7i|699.99|            60|https://example.c...|\n|2011-01-20T00:00:...|       4| Minneapolis|  amxjo648|CA-2011-146591|   FITBITC5| PROD3X4Y5Z6|    20|   West|   56|   Consumer|2011-01-21T00:00:...|   First Class|  GreenGrocer| Minneapolis|  Mary Johnson|     Fitbit Charge 5|179.99|           250|https://example.c...|\n|2011-01-21T00:00:...|       4|   Charlotte|  amxan256|CA-2011-167927|    LOGIMX3| PROD7A8B9C0|     4|Central|   14|   Consumer|2011-01-27T00:00:...|Standard Class|     GameSpot|   Charlotte|  Andrew Clark|Logitech MX Master 3| 99.99|           300|https://example.c...|\n|2011-01-21T00:00:...|       1|      Denver|  amxar881|US-2011-147627|     IPHN12|  PROD1A23B4|    11|  South|   23|   Consumer|2011-01-27T00:00:...|Standard Class|     MusicHut|      Denver|  Robert White|     Apple iPhone 12|999.99|           100|https://example.c...|\n|2011-01-21T00:00:...|       1|     Phoenix|  amxra702|CA-2011-148614|      SGS21| PROD5C67D8E|     9|   West|   19|   Consumer|2011-01-26T00:00:...|Standard Class| ArtisticNest|     Phoenix|   Laura Green|  Samsung Galaxy S21|899.99|           150|https://example.c...|\n|2011-01-21T00:00:...|       2|    Portland|  amxti476|US-2011-147774|     HPVPLP|PRODA9B1C2D3|   -52|  South|   67|  Corporate|2011-01-27T00:00:...|Standard Class|  OutdoorLife|    Portland|   Steven Gray|  HP Pavilion Laptop|799.99|            80|https://example.c...|\n|2011-01-21T00:00:...|       2|   Baltimore|  amxky170|CA-2011-167927|    DELLMON|PROD4E5F6G7H|     9|Central|   19|   Consumer|2011-01-27T00:00:...|Standard Class|    HealthHub|   Baltimore|Patricia Adams|Dell 27-inch Monitor|299.99|           120|https://example.c...|\n|2011-01-06T00:00:...|       3|     Orlando|  amxwi427|CA-2011-141817|        PS5|PROD2I3J4K5L|     5|   East|   20|   Consumer|2011-01-13T00:00:...|Standard Class|     HomeTech|     Orlando|Charles Harris|  Sony PlayStation 5|499.99|            70|https://example.c...|\n|2011-01-07T00:00:...|       3|     Detroit|  amxni228|CA-2011-167199|        NSW|PROD6M7N8O9P|   746|  South| 2574|Home Office|2011-01-11T00:00:...|Standard Class|     AutoZone|     Detroit|    Daniel Lee|     Nintendo Switch|299.99|            90|https://example.c...|\n|2011-01-10T00:00:...|       4|Philadelphia|  amxki513|CA-2011-135405|      ECHO4|PROD4Q5R6S7T|     1|Central|    9|   Consumer|2011-01-14T00:00:...|Standard Class|  Fashionista|Philadelphia|     Amy Smith|Amazon Echo Dot (...| 49.99|           200|https://example.c...|\n|2011-01-10T00:00:...|       4|   San Diego|  amxco721|CA-2011-135405|   REBELT7I| PROD8U9V1W2|    10|Central|   31|   Consumer|2011-01-14T00:00:...|Standard Class|ElectroFusion|   San Diego| George Wilson| Canon EOS Rebel T7i|699.99|            60|https://example.c...|\n|2011-01-11T00:00:...|       4| Minneapolis|  amxma249|CA-2011-149020|   FITBITC5| PROD3X4Y5Z6|    21|  South|   52|  Corporate|2011-01-16T00:00:...|Standard Class|  GreenGrocer| Minneapolis|  Mary Johnson|     Fitbit Charge 5|179.99|           250|https://example.c...|\n|2011-01-21T00:00:...|       4|   Charlotte|  amxma249|US-2011-147627|    LOGIMX3| PROD7A8B9C0|     7|  South|   23|   Consumer|2011-01-27T00:00:...|Standard Class|     GameSpot|   Charlotte|  Andrew Clark|Logitech MX Master 3| 99.99|           300|https://example.c...|\n+--------------------+--------+------------+----------+--------------+-----------+------------+------+-------+-----+-----------+--------------------+--------------+-------------+------------+--------------+--------------------+------+--------------+--------------------+\nonly showing top 20 rows\n\n"
     ]
    }
   ],
   "source": [
    "#import\n",
    "from pyspark.sql.functions import col\n",
    "from pyspark.sql.types import StringType\n",
    "from pyspark.sql import SparkSession\n",
    "from pyspark.sql.functions import when, col, split, to_date, date_format\n",
    "from delta.tables import *\n",
    "import re\n",
    "\n",
    "product_path = \"/mnt/silver/sales_view/products/\"\n",
    "store_path = \"/mnt/silver/sales_view/store/\"\n",
    "customer_sales_path = \"/mnt/silver/sales_view/customer_sales/\"\n",
    "\n",
    "# Read the tables\n",
    "product_df = spark.read.format(\"delta\").load(product_path)\n",
    "store_df = spark.read.format(\"delta\").load(store_path)\n",
    "customer_sales_df = spark.read.format(\"delta\").load(customer_sales_path)\n",
    "\n",
    "# Q1\n",
    "# Join product and store tables\n",
    "product_store_df = product_df.join(\n",
    "    store_df,\n",
    "    product_df.store_id == store_df.store_id,\n",
    "    \"inner\"\n",
    ").select(\n",
    "    store_df.store_id,\n",
    "    store_df.store_name,\n",
    "    store_df.location,\n",
    "    store_df.manager_name,\n",
    "    product_df.product_name,\n",
    "    product_df.product_id,\n",
    "    product_df.product_code,\n",
    "    product_df.description,\n",
    "    product_df.category_id,\n",
    "    product_df.price,\n",
    "    product_df.stock_quantity,\n",
    "    product_df.supplier_id,\n",
    "    product_df.created_at,\n",
    "    product_df.updated_at,\n",
    "    product_df.image_url,\n",
    "    product_df.weight,\n",
    "    product_df.expiry_date,\n",
    "    product_df.is_active,\n",
    "    product_df.tax_rate\n",
    ")\n",
    "product_store_df.show()\n",
    "\n",
    "customer_sales_df.show()\n",
    "\n",
    "# Assuming customer_sales_df has the necessary fields as outlined\n",
    "full_df = customer_sales_df.join(\n",
    "    product_store_df,\n",
    "    customer_sales_df.product_id == product_store_df.product_id,  # Ensure these fields match in your schema\n",
    "    \"inner\"\n",
    ").select(\n",
    "    customer_sales_df.orderdate.alias(\"OrderDate\"),\n",
    "    product_store_df.category_id.alias(\"Category\"),\n",
    "    store_df.location.alias(\"City\"),\n",
    "    customer_sales_df.customerid.alias(\"CustomerID\"),\n",
    "    customer_sales_df.orderid.alias(\"OrderID\"),\n",
    "    product_store_df.product_code.alias(\"ProductCode\"),\n",
    "    product_store_df.product_id.alias(\"ProductID\"),\n",
    "    customer_sales_df.profit.alias(\"Profit\"),\n",
    "    customer_sales_df.region.alias(\"Region\"),\n",
    "    customer_sales_df.sales.alias(\"Sales\"),\n",
    "    customer_sales_df.segment.alias(\"Segment\"),\n",
    "    customer_sales_df.shipdate.alias(\"ShipDate\"),\n",
    "    customer_sales_df.shipmode.alias(\"ShipMode\"),\n",
    "    store_df.store_name,\n",
    "    store_df.location,\n",
    "    store_df.manager_name,\n",
    "    product_store_df.product_name,\n",
    "    product_store_df.price,\n",
    "    product_store_df.stock_quantity,\n",
    "    product_store_df.image_url\n",
    ")\n",
    "\n",
    "full_df.show()\n",
    "# Q2\n",
    "gold_path = \"/mnt/gold/sales_view/StoreProductSalesAnalysis/\"\n",
    "\n",
    "# Write or overwrite the existing Delta table\n",
    "full_df.write.format(\"delta\").mode(\"overwrite\").save(gold_path)\n",
    "\n"
   ]
  },
  {
   "cell_type": "code",
   "execution_count": 0,
   "metadata": {
    "application/vnd.databricks.v1+cell": {
     "cellMetadata": {
      "byteLimit": 2048000,
      "rowLimit": 10000
     },
     "inputWidgets": {},
     "nuid": "243cbeac-ecde-464f-a41b-632eb9707749",
     "showTitle": false,
     "title": ""
    }
   },
   "outputs": [
    {
     "output_type": "stream",
     "name": "stdout",
     "output_type": "stream",
     "text": [
      "+---------+--------+----+----------+-------+---------+------+------+-----+-------+--------+--------+----------+--------+------------+------------+-----+--------------+---------+\n|OrderDate|Category|City|CustomerID|OrderID|ProductID|Profit|Region|Sales|Segment|ShipDate|ShipMode|store_name|location|manager_name|product_name|price|stock_quantity|image_url|\n+---------+--------+----+----------+-------+---------+------+------+-----+-------+--------+--------+----------+--------+------------+------------+-----+--------------+---------+\n+---------+--------+----+----------+-------+---------+------+------+-----+-------+--------+--------+----------+--------+------------+------------+-----+--------------+---------+\n\nDelta table exists and will be deleted.\n"
     ]
    },
    {
     "output_type": "execute_result",
     "data": {
      "text/plain": [
       "True"
      ]
     },
     "execution_count": 175,
     "metadata": {},
     "output_type": "execute_result"
    }
   ],
   "source": [
    "delta_path = \"dbfs:/mnt/gold/sales_view/StoreProductSalesAnalysis/\"\n",
    "\n",
    "verified_df = spark.read.format(\"delta\").load(delta_path)\n",
    "verified_df.show()\n",
    "\n",
    "from pyspark.sql import SparkSession\n",
    "from delta.tables import DeltaTable\n",
    "\n",
    "# Initialize Spark Session (Assuming it's not already started)\n",
    "spark = SparkSession.builder.appName(\"Delete Delta Table\").getOrCreate()\n",
    "\n",
    "# Check if the Delta table exists\n",
    "if DeltaTable.isDeltaTable(spark, delta_path):\n",
    "    print(\"Delta table exists and will be deleted.\")\n",
    "else:\n",
    "    print(\"Delta table does not exist at the specified path.\")\n",
    "\n",
    "dbutils.fs.rm(delta_path, recurse=True)"
   ]
  },
  {
   "cell_type": "code",
   "execution_count": 0,
   "metadata": {
    "application/vnd.databricks.v1+cell": {
     "cellMetadata": {},
     "inputWidgets": {},
     "nuid": "6801c26e-cf09-4883-adcc-e4fd885674ca",
     "showTitle": false,
     "title": ""
    }
   },
   "outputs": [],
   "source": [
    "%scala\n",
    "val configs = Map(\n",
    "  \"fs.azure.account.key.adfassignmentanjali.blob.core.windows.net\" -> \"VlzvQe3d8+oEN5dnPo6tW7B4B6jxNWsDyNkNcrs+CvvXl2WLsHUdWSNSFtDz06smCLIyEVVF5FMC+AStb3Wu2Q==\"\n",
    ")\n",
    "dbutils.fs.unmount(\"/mnt/gold\")\n",
    "dbutils.fs.mount(\n",
    "  source = \"wasbs://silver@adfassignmentanjali.blob.core.windows.net/\",\n",
    "  mountPoint = \"/mnt/silver/\",\n",
    "  extraConfigs = configs)"
   ]
  }
 ],
 "metadata": {
  "application/vnd.databricks.v1+notebook": {
   "dashboards": [],
   "language": "python",
   "notebookMetadata": {
    "pythonIndentUnit": 4
   },
   "notebookName": "My Notebook",
   "widgets": {}
  }
 },
 "nbformat": 4,
 "nbformat_minor": 0
}
